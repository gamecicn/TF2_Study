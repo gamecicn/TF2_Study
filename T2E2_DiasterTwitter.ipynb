{
  "nbformat": 4,
  "nbformat_minor": 0,
  "metadata": {
    "colab": {
      "name": "T2E2_DiasterTwitter.ipynb",
      "provenance": [],
      "collapsed_sections": [],
      "mount_file_id": "1u_Vd1oYEaQeccuXuFQe4MQ9H9TPtwycE",
      "authorship_tag": "ABX9TyO2V8upGwCwHYfTPGwj/srk",
      "include_colab_link": true
    },
    "kernelspec": {
      "name": "python3",
      "display_name": "Python 3"
    }
  },
  "cells": [
    {
      "cell_type": "markdown",
      "metadata": {
        "id": "view-in-github",
        "colab_type": "text"
      },
      "source": [
        "<a href=\"https://colab.research.google.com/github/gamecicn/TF2_Study/blob/KaggleTwitterDiaster/T2E2_DiasterTwitter.ipynb\" target=\"_parent\"><img src=\"https://colab.research.google.com/assets/colab-badge.svg\" alt=\"Open In Colab\"/></a>"
      ]
    },
    {
      "cell_type": "code",
      "metadata": {
        "id": "4pjgXjoa-u3S"
      },
      "source": [
        "import numpy as np\r\n",
        "import nltk\r\n",
        "import tensorflow as tf\r\n",
        "import pandas as pd\r\n",
        "\r\n",
        "from tensorflow.keras import layers\r\n",
        "from tensorflow.keras import losses\r\n",
        "from tensorflow.keras import preprocessing\r\n",
        "from tensorflow.keras.layers.experimental.preprocessing import TextVectorization"
      ],
      "execution_count": 37,
      "outputs": []
    },
    {
      "cell_type": "code",
      "metadata": {
        "id": "5q-g4mho_a4x"
      },
      "source": [
        "df_data = pd.read_csv('/content/drive/MyDrive/DS_data/TwitterDisaster/train.csv')\r\n",
        "df_test = pd.read_csv('/content/drive/MyDrive/DS_data/TwitterDisaster/test.csv')"
      ],
      "execution_count": 38,
      "outputs": []
    },
    {
      "cell_type": "code",
      "metadata": {
        "colab": {
          "base_uri": "https://localhost:8080/"
        },
        "id": "zaaRzLYNFJOA",
        "outputId": "2a8efd2f-8f4b-48d6-e8b3-7eb6261d1b10"
      },
      "source": [
        "df_data_copy = df_data.copy()\r\n",
        "\r\n",
        "df_train  = df_data_copy.sample(frac=0.99, random_state=0)\r\n",
        "df_valid = df_data_copy.drop(df_train.index)\r\n",
        "\r\n",
        "df_train_labels = df_train.pop('target')\r\n",
        "df_valid_labels = df_valid.pop('target')\r\n",
        "\r\n",
        "print(\"lenght of train is {}\".format(len(df_train)))\r\n",
        "print(\"lenght of valid is {}\".format(len(df_valid)))"
      ],
      "execution_count": 39,
      "outputs": [
        {
          "output_type": "stream",
          "text": [
            "lenght of train is 7537\n",
            "lenght of valid is 76\n"
          ],
          "name": "stdout"
        }
      ]
    },
    {
      "cell_type": "code",
      "metadata": {
        "colab": {
          "base_uri": "https://localhost:8080/",
          "height": 197
        },
        "id": "96ygxSkPKZ8K",
        "outputId": "84f0ad6a-882d-4bc1-bb2a-c336161b0ba3"
      },
      "source": [
        "df_test.head()"
      ],
      "execution_count": 40,
      "outputs": [
        {
          "output_type": "execute_result",
          "data": {
            "text/html": [
              "<div>\n",
              "<style scoped>\n",
              "    .dataframe tbody tr th:only-of-type {\n",
              "        vertical-align: middle;\n",
              "    }\n",
              "\n",
              "    .dataframe tbody tr th {\n",
              "        vertical-align: top;\n",
              "    }\n",
              "\n",
              "    .dataframe thead th {\n",
              "        text-align: right;\n",
              "    }\n",
              "</style>\n",
              "<table border=\"1\" class=\"dataframe\">\n",
              "  <thead>\n",
              "    <tr style=\"text-align: right;\">\n",
              "      <th></th>\n",
              "      <th>id</th>\n",
              "      <th>keyword</th>\n",
              "      <th>location</th>\n",
              "      <th>text</th>\n",
              "    </tr>\n",
              "  </thead>\n",
              "  <tbody>\n",
              "    <tr>\n",
              "      <th>0</th>\n",
              "      <td>0</td>\n",
              "      <td>NaN</td>\n",
              "      <td>NaN</td>\n",
              "      <td>Just happened a terrible car crash</td>\n",
              "    </tr>\n",
              "    <tr>\n",
              "      <th>1</th>\n",
              "      <td>2</td>\n",
              "      <td>NaN</td>\n",
              "      <td>NaN</td>\n",
              "      <td>Heard about #earthquake is different cities, s...</td>\n",
              "    </tr>\n",
              "    <tr>\n",
              "      <th>2</th>\n",
              "      <td>3</td>\n",
              "      <td>NaN</td>\n",
              "      <td>NaN</td>\n",
              "      <td>there is a forest fire at spot pond, geese are...</td>\n",
              "    </tr>\n",
              "    <tr>\n",
              "      <th>3</th>\n",
              "      <td>9</td>\n",
              "      <td>NaN</td>\n",
              "      <td>NaN</td>\n",
              "      <td>Apocalypse lighting. #Spokane #wildfires</td>\n",
              "    </tr>\n",
              "    <tr>\n",
              "      <th>4</th>\n",
              "      <td>11</td>\n",
              "      <td>NaN</td>\n",
              "      <td>NaN</td>\n",
              "      <td>Typhoon Soudelor kills 28 in China and Taiwan</td>\n",
              "    </tr>\n",
              "  </tbody>\n",
              "</table>\n",
              "</div>"
            ],
            "text/plain": [
              "   id keyword location                                               text\n",
              "0   0     NaN      NaN                 Just happened a terrible car crash\n",
              "1   2     NaN      NaN  Heard about #earthquake is different cities, s...\n",
              "2   3     NaN      NaN  there is a forest fire at spot pond, geese are...\n",
              "3   9     NaN      NaN           Apocalypse lighting. #Spokane #wildfires\n",
              "4  11     NaN      NaN      Typhoon Soudelor kills 28 in China and Taiwan"
            ]
          },
          "metadata": {
            "tags": []
          },
          "execution_count": 40
        }
      ]
    },
    {
      "cell_type": "code",
      "metadata": {
        "id": "T7uibu2WFgrx"
      },
      "source": [
        "def custom_standardization(input_data):\r\n",
        "  lowercase = tf.strings.lower(input_data)\r\n",
        "  stripped  = tf.strings.regex_replace(lowercase, '<br />', ' ')\r\n",
        "  return stripped"
      ],
      "execution_count": 41,
      "outputs": []
    },
    {
      "cell_type": "markdown",
      "metadata": {
        "id": "x9kS3cJDNRvw"
      },
      "source": [
        "## Vectorizlize Text"
      ]
    },
    {
      "cell_type": "code",
      "metadata": {
        "id": "18UqOWZoHvgO"
      },
      "source": [
        "max_features = 10000\r\n",
        "sequence_length = 250\r\n",
        "\r\n",
        "vectorize_layer = TextVectorization(\r\n",
        "    standardize=custom_standardization,\r\n",
        "    max_tokens=max_features,\r\n",
        "    output_mode='int',\r\n",
        "    output_sequence_length=sequence_length)\r\n",
        "\r\n",
        "# Make a text-only dataset (without labels), then call adapt\r\n",
        "vectorize_layer.adapt(df_train['text'].to_numpy())"
      ],
      "execution_count": 64,
      "outputs": []
    },
    {
      "cell_type": "markdown",
      "metadata": {
        "id": "ZgStGAPFJTG3"
      },
      "source": [
        "### Build  Model"
      ]
    },
    {
      "cell_type": "code",
      "metadata": {
        "id": "Aj_oZ2njJU0u"
      },
      "source": [
        "embedding_dim = 16\r\n",
        "\r\n",
        "model = tf.keras.Sequential([\r\n",
        "  vectorize_layer,                           \r\n",
        "  layers.Embedding(max_features + 1, embedding_dim),\r\n",
        "  layers.Dropout(0.2),\r\n",
        "  layers.GlobalAveragePooling1D(),\r\n",
        "  layers.Dropout(0.2),\r\n",
        "  layers.Dense(1)])\r\n",
        "\r\n",
        "#model.summary()"
      ],
      "execution_count": 76,
      "outputs": []
    },
    {
      "cell_type": "code",
      "metadata": {
        "colab": {
          "base_uri": "https://localhost:8080/"
        },
        "id": "XudS63KPMydQ",
        "outputId": "710d6b66-d2cb-42be-d823-ec90b5a87dfb"
      },
      "source": [
        "model.compile(loss=losses.BinaryCrossentropy(from_logits=True),\r\n",
        "              optimizer='adam',\r\n",
        "              metrics='accuracy')\r\n",
        "\r\n",
        "epochs = 20\r\n",
        "history = model.fit(\r\n",
        "    df_train['text'].to_numpy(), \r\n",
        "    df_train_labels,\r\n",
        "    epochs=epochs)"
      ],
      "execution_count": 79,
      "outputs": [
        {
          "output_type": "stream",
          "text": [
            "Epoch 1/20\n",
            "236/236 [==============================] - 2s 6ms/step - loss: 0.5251 - accuracy: 0.7000\n",
            "Epoch 2/20\n",
            "236/236 [==============================] - 1s 6ms/step - loss: 0.5182 - accuracy: 0.7060\n",
            "Epoch 3/20\n",
            "236/236 [==============================] - 1s 6ms/step - loss: 0.5030 - accuracy: 0.7291\n",
            "Epoch 4/20\n",
            "236/236 [==============================] - 1s 6ms/step - loss: 0.4881 - accuracy: 0.7437\n",
            "Epoch 5/20\n",
            "236/236 [==============================] - 1s 6ms/step - loss: 0.4766 - accuracy: 0.7540\n",
            "Epoch 6/20\n",
            "236/236 [==============================] - 2s 6ms/step - loss: 0.4590 - accuracy: 0.7661\n",
            "Epoch 7/20\n",
            "236/236 [==============================] - 1s 6ms/step - loss: 0.4472 - accuracy: 0.7761\n",
            "Epoch 8/20\n",
            "236/236 [==============================] - 1s 6ms/step - loss: 0.4435 - accuracy: 0.7833\n",
            "Epoch 9/20\n",
            "236/236 [==============================] - 1s 6ms/step - loss: 0.4331 - accuracy: 0.7935\n",
            "Epoch 10/20\n",
            "236/236 [==============================] - 1s 6ms/step - loss: 0.4247 - accuracy: 0.7950\n",
            "Epoch 11/20\n",
            "236/236 [==============================] - 1s 6ms/step - loss: 0.4181 - accuracy: 0.7992\n",
            "Epoch 12/20\n",
            "236/236 [==============================] - 1s 6ms/step - loss: 0.4137 - accuracy: 0.8035\n",
            "Epoch 13/20\n",
            "236/236 [==============================] - 2s 6ms/step - loss: 0.4054 - accuracy: 0.8147\n",
            "Epoch 14/20\n",
            "236/236 [==============================] - 2s 6ms/step - loss: 0.3900 - accuracy: 0.8147\n",
            "Epoch 15/20\n",
            "236/236 [==============================] - 2s 6ms/step - loss: 0.3820 - accuracy: 0.8267\n",
            "Epoch 16/20\n",
            "236/236 [==============================] - 1s 6ms/step - loss: 0.3792 - accuracy: 0.8290\n",
            "Epoch 17/20\n",
            "236/236 [==============================] - 1s 6ms/step - loss: 0.3749 - accuracy: 0.8300\n",
            "Epoch 18/20\n",
            "236/236 [==============================] - 1s 6ms/step - loss: 0.3639 - accuracy: 0.8315\n",
            "Epoch 19/20\n",
            "236/236 [==============================] - 1s 6ms/step - loss: 0.3523 - accuracy: 0.8342\n",
            "Epoch 20/20\n",
            "236/236 [==============================] - 1s 6ms/step - loss: 0.3529 - accuracy: 0.8361\n"
          ],
          "name": "stdout"
        }
      ]
    },
    {
      "cell_type": "markdown",
      "metadata": {
        "id": "IAhD7GUATqqm"
      },
      "source": [
        "## Evaluate the model"
      ]
    },
    {
      "cell_type": "code",
      "metadata": {
        "colab": {
          "base_uri": "https://localhost:8080/"
        },
        "id": "Rsle8c-FTr1f",
        "outputId": "e675c501-ae05-46bc-8a63-d57c0f197e94"
      },
      "source": [
        "loss, accuracy = model.evaluate(df_valid['text'], df_valid_labels)\r\n",
        "\r\n",
        "print(\"Loss: \", loss)\r\n",
        "print(\"Accuracy: \", accuracy)"
      ],
      "execution_count": 80,
      "outputs": [
        {
          "output_type": "stream",
          "text": [
            "3/3 [==============================] - 0s 4ms/step - loss: 0.4526 - accuracy: 0.7895\n",
            "Loss:  0.45255038142204285\n",
            "Accuracy:  0.7894737124443054\n"
          ],
          "name": "stdout"
        }
      ]
    },
    {
      "cell_type": "markdown",
      "metadata": {
        "id": "JIDky2dhVvhC"
      },
      "source": [
        "## Prediction"
      ]
    },
    {
      "cell_type": "code",
      "metadata": {
        "colab": {
          "base_uri": "https://localhost:8080/",
          "height": 194
        },
        "id": "o-S2akkpTm_c",
        "outputId": "2615e25b-e0c5-43a5-ba8a-4d827921198e"
      },
      "source": [
        "prediction_model = tf.keras.Sequential([model, \r\n",
        "                                        layers.Activation('sigmoid')])\r\n",
        "\r\n",
        "predictions = prediction_model.predict(df_test['text'].to_numpy())\r\n",
        "\r\n"
      ],
      "execution_count": 92,
      "outputs": [
        {
          "output_type": "error",
          "ename": "AttributeError",
          "evalue": "ignored",
          "traceback": [
            "\u001b[0;31m---------------------------------------------------------------------------\u001b[0m",
            "\u001b[0;31mAttributeError\u001b[0m                            Traceback (most recent call last)",
            "\u001b[0;32m<ipython-input-92-0a2b50914acb>\u001b[0m in \u001b[0;36m<module>\u001b[0;34m()\u001b[0m\n\u001b[1;32m      4\u001b[0m \u001b[0mpredictions\u001b[0m \u001b[0;34m=\u001b[0m \u001b[0mprediction_model\u001b[0m\u001b[0;34m.\u001b[0m\u001b[0mpredict\u001b[0m\u001b[0;34m(\u001b[0m\u001b[0mdf_test\u001b[0m\u001b[0;34m[\u001b[0m\u001b[0;34m'text'\u001b[0m\u001b[0;34m]\u001b[0m\u001b[0;34m.\u001b[0m\u001b[0mto_numpy\u001b[0m\u001b[0;34m(\u001b[0m\u001b[0;34m)\u001b[0m\u001b[0;34m)\u001b[0m\u001b[0;34m\u001b[0m\u001b[0;34m\u001b[0m\u001b[0m\n\u001b[1;32m      5\u001b[0m \u001b[0;34m\u001b[0m\u001b[0m\n\u001b[0;32m----> 6\u001b[0;31m \u001b[0mlist\u001b[0m\u001b[0;34m(\u001b[0m\u001b[0mmap\u001b[0m\u001b[0;34m(\u001b[0m\u001b[0;32mlambda\u001b[0m \u001b[0mx\u001b[0m\u001b[0;34m:\u001b[0m \u001b[0;36m0\u001b[0m \u001b[0;32mif\u001b[0m \u001b[0mx\u001b[0m\u001b[0;34m<\u001b[0m\u001b[0;36m0.5\u001b[0m \u001b[0;32melse\u001b[0m \u001b[0;36m1\u001b[0m\u001b[0;34m,\u001b[0m \u001b[0mpredictions\u001b[0m\u001b[0;34m)\u001b[0m\u001b[0;34m)\u001b[0m\u001b[0;34m.\u001b[0m\u001b[0mhead\u001b[0m\u001b[0;34m(\u001b[0m\u001b[0;34m)\u001b[0m\u001b[0;34m\u001b[0m\u001b[0;34m\u001b[0m\u001b[0m\n\u001b[0m",
            "\u001b[0;31mAttributeError\u001b[0m: 'list' object has no attribute 'head'"
          ]
        }
      ]
    },
    {
      "cell_type": "code",
      "metadata": {
        "id": "mHST9BlyY5L5"
      },
      "source": [
        "res = pd.DataFrame(data = {\"id\" : np.arange(1, 1+len(predictions)) , \r\n",
        "                           \"target\"   : list(map(lambda x: 0 if x<0.5 else 1, predictions))})\r\n",
        "\r\n",
        "res.to_csv(\"/content/drive/MyDrive/output/Kaggle_twitterDisaster.csv\", index=False)"
      ],
      "execution_count": 94,
      "outputs": []
    }
  ]
}