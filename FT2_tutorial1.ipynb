{
  "nbformat": 4,
  "nbformat_minor": 0,
  "metadata": {
    "colab": {
      "name": "FT2_tutorial1.ipynb",
      "provenance": [],
      "collapsed_sections": [],
      "authorship_tag": "ABX9TyN6FF9nJnzymyZn7raYf8+E",
      "include_colab_link": true
    },
    "kernelspec": {
      "name": "python3",
      "display_name": "Python 3"
    }
  },
  "cells": [
    {
      "cell_type": "markdown",
      "metadata": {
        "id": "view-in-github",
        "colab_type": "text"
      },
      "source": [
        "<a href=\"https://colab.research.google.com/github/gamecicn/TF2_Study/blob/main/FT2_tutorial1.ipynb\" target=\"_parent\"><img src=\"https://colab.research.google.com/assets/colab-badge.svg\" alt=\"Open In Colab\"/></a>"
      ]
    },
    {
      "cell_type": "code",
      "metadata": {
        "id": "IQqLMHQP3PgN"
      },
      "source": [
        "import os\n",
        "\n",
        "os.environ[\"TF_CPP_MIN_LOG_LEVEL\"] = \"2\"\n",
        "\n",
        "import tensorflow as tf\n",
        "import numpy as np"
      ],
      "execution_count": null,
      "outputs": []
    },
    {
      "cell_type": "markdown",
      "metadata": {
        "id": "eLsfhkf28xYv"
      },
      "source": [
        "## Initialization of Tensors"
      ]
    },
    {
      "cell_type": "code",
      "metadata": {
        "id": "goJ36OLb3rxk",
        "outputId": "f8c8bff5-448b-4068-9ae9-0e6957162258",
        "colab": {
          "base_uri": "https://localhost:8080/"
        }
      },
      "source": [
        "\n",
        "x = tf.constant(4)\n",
        "print(x)\n",
        "\n",
        "x = tf.constant(4.0)\n",
        "print(x)\n",
        "\n",
        "x = tf.constant(4, shape=(1,1))\n",
        "print(x)\n",
        "\n",
        "x = tf.constant(4, shape=(1,1), dtype=tf.float32)\n",
        "print(x)\n"
      ],
      "execution_count": null,
      "outputs": [
        {
          "output_type": "stream",
          "text": [
            "tf.Tensor(4, shape=(), dtype=int32)\n",
            "tf.Tensor(4.0, shape=(), dtype=float32)\n",
            "tf.Tensor([[4]], shape=(1, 1), dtype=int32)\n",
            "tf.Tensor([[4.]], shape=(1, 1), dtype=float32)\n"
          ],
          "name": "stdout"
        }
      ]
    },
    {
      "cell_type": "code",
      "metadata": {
        "id": "1c8tvKU63WDI",
        "outputId": "2ed3d66d-aa5f-4f66-96ab-0533a49ee5af",
        "colab": {
          "base_uri": "https://localhost:8080/"
        }
      },
      "source": [
        "x = tf.constant([[1,2,3], [4,5,6]])\n",
        "print(x)\n",
        "\n",
        "x = tf.ones((3,3))\n",
        "print(x)\n",
        "\n",
        "x= tf.zeros((2, 3))\n",
        "print(x)\n",
        "\n",
        "x = tf.eye(3)\n",
        "print(x)\n",
        "\n"
      ],
      "execution_count": 13,
      "outputs": [
        {
          "output_type": "stream",
          "text": [
            "tf.Tensor(\n",
            "[[1 2 3]\n",
            " [4 5 6]], shape=(2, 3), dtype=int32)\n",
            "tf.Tensor(\n",
            "[[1. 1. 1.]\n",
            " [1. 1. 1.]\n",
            " [1. 1. 1.]], shape=(3, 3), dtype=float32)\n",
            "tf.Tensor(\n",
            "[[0. 0. 0.]\n",
            " [0. 0. 0.]], shape=(2, 3), dtype=float32)\n",
            "tf.Tensor(\n",
            "[[1. 0. 0.]\n",
            " [0. 1. 0.]\n",
            " [0. 0. 1.]], shape=(3, 3), dtype=float32)\n",
            "tf.Tensor(\n",
            "[[ 2.0928006   1.1391064  -0.30634972]\n",
            " [ 0.19390857  0.32864985 -0.11823907]\n",
            " [-0.64313483  0.25143167  0.25078747]], shape=(3, 3), dtype=float32)\n"
          ],
          "name": "stdout"
        }
      ]
    },
    {
      "cell_type": "code",
      "metadata": {
        "id": "bitlaPfY3iAO",
        "outputId": "84285162-cc3e-49da-9137-924dc0c94d9f",
        "colab": {
          "base_uri": "https://localhost:8080/"
        }
      },
      "source": [
        "x = tf.random.normal((3,3), mean=0, stddev=1)\n",
        "print(x)\n",
        "\n",
        "x = tf.random.uniform((1,3), minval=0, maxval = 1)\n",
        "print(x)\n",
        "\n",
        "x = tf.range(9)\n",
        "print(x)\n",
        "\n",
        "x = tf.range(start=1, limit=10, delta=2)\n",
        "print(x)\n",
        "\n",
        "x = tf.cast(x, dtype=tf.float64)"
      ],
      "execution_count": 20,
      "outputs": [
        {
          "output_type": "stream",
          "text": [
            "tf.Tensor(\n",
            "[[-1.502342  -1.1445646  1.8701488]\n",
            " [-0.0063512  1.2913731  0.8602331]\n",
            " [-2.0158195 -0.2868633  1.858616 ]], shape=(3, 3), dtype=float32)\n",
            "tf.Tensor([[0.31814826 0.61364996 0.33990014]], shape=(1, 3), dtype=float32)\n",
            "tf.Tensor([0 1 2 3 4 5 6 7 8], shape=(9,), dtype=int32)\n",
            "tf.Tensor([1 3 5 7 9], shape=(5,), dtype=int32)\n"
          ],
          "name": "stdout"
        }
      ]
    },
    {
      "cell_type": "markdown",
      "metadata": {
        "id": "QuSxto4d8zfu"
      },
      "source": [
        "## Mathematical Operatinos"
      ]
    },
    {
      "cell_type": "code",
      "metadata": {
        "id": "_W9q7W0D3XtZ",
        "outputId": "96621133-de16-4395-f885-6ee499ffb558",
        "colab": {
          "base_uri": "https://localhost:8080/"
        }
      },
      "source": [
        "x = tf.constant([1, 2, 3])\n",
        "y = tf.constant([9, 8, 7])\n",
        "z = tf.add(x, y)\n",
        "print(z)\n",
        "\n",
        "z = tf.subtract(x, y)\n",
        "print(z)\n",
        "\n",
        "z = tf.divide(x, y)\n",
        "print(z)\n",
        "\n",
        "z = tf.multiply(x, y)\n",
        "print(z) \n",
        "\n",
        "z = tf.tensordot(x, y, axes=1)\n",
        "# [x1*y1 + x2*y2 + x3*y3]\n",
        "print(z)\n",
        "\n",
        "z = tf.reduce_sum(x*y, axis=0)\n",
        "print(z)\n",
        "\n",
        "z = x ** 5\n",
        "print(z)\n",
        "\n",
        "# martix multipliation\n",
        "x = tf.random.normal((2, 3))\n",
        "y = tf.random.normal((3, 4))\n",
        "\n",
        "z = tf.matmul(x, y)\n",
        "print(z)\n",
        "\n",
        "z = x @ y\n",
        "print(z)\n",
        "\n"
      ],
      "execution_count": 26,
      "outputs": [
        {
          "output_type": "stream",
          "text": [
            "tf.Tensor([10 10 10], shape=(3,), dtype=int32)\n",
            "tf.Tensor([-8 -6 -4], shape=(3,), dtype=int32)\n",
            "tf.Tensor([0.11111111 0.25       0.42857143], shape=(3,), dtype=float64)\n",
            "tf.Tensor([ 9 16 21], shape=(3,), dtype=int32)\n",
            "tf.Tensor(46, shape=(), dtype=int32)\n",
            "tf.Tensor(46, shape=(), dtype=int32)\n",
            "tf.Tensor([  1  32 243], shape=(3,), dtype=int32)\n",
            "tf.Tensor(\n",
            "[[ 1.2609596   1.5056121   2.5730646  -0.52326816]\n",
            " [-3.1146228   4.6924562   3.334421   -0.6406849 ]], shape=(2, 4), dtype=float32)\n",
            "tf.Tensor(\n",
            "[[ 1.2609596   1.5056121   2.5730646  -0.52326816]\n",
            " [-3.1146228   4.6924562   3.334421   -0.6406849 ]], shape=(2, 4), dtype=float32)\n"
          ],
          "name": "stdout"
        }
      ]
    },
    {
      "cell_type": "markdown",
      "metadata": {
        "id": "cCyg1cj5AG8g"
      },
      "source": [
        "## Indexing"
      ]
    },
    {
      "cell_type": "code",
      "metadata": {
        "id": "-_UaRzT6Aofz"
      },
      "source": [
        ""
      ],
      "execution_count": null,
      "outputs": []
    },
    {
      "cell_type": "code",
      "metadata": {
        "id": "BFslyZJ2AGJi",
        "outputId": "8c098bfa-42b6-440a-c8cb-24503c3c32b1",
        "colab": {
          "base_uri": "https://localhost:8080/"
        }
      },
      "source": [
        "x = tf.constant([0 ,1, 1, 2, 3, 1, 2, 3])\n",
        "\n",
        "print(x[:])\n",
        "print(x[1:])\n",
        "print(x[1:3])\n",
        "print(x[::2])\n",
        "print(x[::-1])\n",
        "\n",
        "indices = tf.constant([0, 3])\n",
        "x_ind = tf.gather(x, indices)\n",
        "print(x_ind)\n",
        "\n",
        "x = tf.constant([[1, 2],\n",
        "                 [3, 4],\n",
        "                 [5, 6]\n",
        "                 ])\n",
        "print(x[0, :])\n",
        "print(x[0:2, :])\n"
      ],
      "execution_count": 34,
      "outputs": [
        {
          "output_type": "stream",
          "text": [
            "tf.Tensor([0 1 1 2 3 1 2 3], shape=(8,), dtype=int32)\n",
            "tf.Tensor([1 1 2 3 1 2 3], shape=(7,), dtype=int32)\n",
            "tf.Tensor([1 1], shape=(2,), dtype=int32)\n",
            "tf.Tensor([0 1 3 2], shape=(4,), dtype=int32)\n",
            "tf.Tensor([3 2 1 3 2 1 1 0], shape=(8,), dtype=int32)\n",
            "tf.Tensor([0 2], shape=(2,), dtype=int32)\n",
            "tf.Tensor([1 2], shape=(2,), dtype=int32)\n",
            "tf.Tensor(\n",
            "[[1 2]\n",
            " [3 4]], shape=(2, 2), dtype=int32)\n"
          ],
          "name": "stdout"
        }
      ]
    },
    {
      "cell_type": "markdown",
      "metadata": {
        "id": "3eSSqA8dBV_a"
      },
      "source": [
        "## Reshaping"
      ]
    },
    {
      "cell_type": "code",
      "metadata": {
        "id": "e-dHtGBcBRoh",
        "outputId": "370b003b-d040-4f9c-bfd5-4745e3f1df6d",
        "colab": {
          "base_uri": "https://localhost:8080/"
        }
      },
      "source": [
        "x = tf.range(9)\n",
        "print(x)\n",
        "\n",
        "x = tf.reshape(x, (3, 3))\n",
        "print(x)\n",
        "\n",
        "x = tf.transpose(x, perm=[1, 0])\n",
        "print(x)"
      ],
      "execution_count": 37,
      "outputs": [
        {
          "output_type": "stream",
          "text": [
            "tf.Tensor([0 1 2 3 4 5 6 7 8], shape=(9,), dtype=int32)\n",
            "tf.Tensor(\n",
            "[[0 1 2]\n",
            " [3 4 5]\n",
            " [6 7 8]], shape=(3, 3), dtype=int32)\n",
            "tf.Tensor(\n",
            "[[0 3 6]\n",
            " [1 4 7]\n",
            " [2 5 8]], shape=(3, 3), dtype=int32)\n"
          ],
          "name": "stdout"
        }
      ]
    },
    {
      "cell_type": "code",
      "metadata": {
        "id": "IwQaA8UcBRjo"
      },
      "source": [
        ""
      ],
      "execution_count": null,
      "outputs": []
    }
  ]
}