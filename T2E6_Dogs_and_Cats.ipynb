{
  "nbformat": 4,
  "nbformat_minor": 0,
  "metadata": {
    "colab": {
      "name": "T2E6 Dogs and Cats.ipynb",
      "provenance": [],
      "collapsed_sections": [],
      "mount_file_id": "1dyW50lE9cBfWlVToIyApJSP0yYrAXhNL",
      "authorship_tag": "ABX9TyNnGjbORDmBND2gTZfnm8Yk",
      "include_colab_link": true
    },
    "kernelspec": {
      "name": "python3",
      "display_name": "Python 3"
    }
  },
  "cells": [
    {
      "cell_type": "markdown",
      "metadata": {
        "id": "view-in-github",
        "colab_type": "text"
      },
      "source": [
        "<a href=\"https://colab.research.google.com/github/gamecicn/TF2_Study/blob/NeteaseCourse/T2E6_Dogs_and_Cats.ipynb\" target=\"_parent\"><img src=\"https://colab.research.google.com/assets/colab-badge.svg\" alt=\"Open In Colab\"/></a>"
      ]
    },
    {
      "cell_type": "code",
      "metadata": {
        "id": "kxIMzfurlvM9"
      },
      "source": [
        "import os\r\n",
        "import warnings\r\n",
        "warnings.filterwarnings(\"ignore\")\r\n",
        "import tensorflow as tf\r\n",
        "from tensorflow.keras.optimizers import Adam\r\n",
        "from tensorflow.keras.preprocessing.image import ImageDataGenerator"
      ],
      "execution_count": 1,
      "outputs": []
    },
    {
      "cell_type": "code",
      "metadata": {
        "id": "OQdsp45TmQbW"
      },
      "source": [
        "# 数据所在文件夹\r\n",
        "base_dir = '/content/drive/MyDrive/DS_data/TensorFlowEx/DogCat1/cats_and_dogs'\r\n",
        "train_dir = os.path.join(base_dir, 'train')\r\n",
        "validation_dir = os.path.join(base_dir, 'validation')\r\n",
        "\r\n",
        "# 训练集\r\n",
        "train_cats_dir = os.path.join(train_dir, 'cats')\r\n",
        "train_dogs_dir = os.path.join(train_dir, 'dogs')\r\n",
        "\r\n",
        "# 验证集\r\n",
        "validation_cats_dir = os.path.join(validation_dir, 'cats')\r\n",
        "validation_dogs_dir = os.path.join(validation_dir, 'dogs')"
      ],
      "execution_count": 12,
      "outputs": []
    },
    {
      "cell_type": "code",
      "metadata": {
        "id": "CZVX-LRC0Rxo"
      },
      "source": [
        "model = tf.keras.models.Sequential([\r\n",
        "    #如果训练慢，可以把数据设置的更小一些\r\n",
        "    tf.keras.layers.Conv2D(32, (3,3), activation='relu', input_shape=(64, 64, 3)),\r\n",
        "    tf.keras.layers.MaxPooling2D(2, 2),\r\n",
        "\r\n",
        "    tf.keras.layers.Conv2D(64, (3,3), activation='relu'),\r\n",
        "    tf.keras.layers.MaxPooling2D(2,2),\r\n",
        "\r\n",
        "    tf.keras.layers.Conv2D(128, (3,3), activation='relu'),\r\n",
        "    tf.keras.layers.MaxPooling2D(2,2),\r\n",
        "    \r\n",
        "    #为全连接层准备\r\n",
        "    tf.keras.layers.Flatten(),\r\n",
        "    \r\n",
        "    tf.keras.layers.Dense(512, activation='relu'),\r\n",
        "    # 二分类sigmoid就够了\r\n",
        "    tf.keras.layers.Dense(1, activation='sigmoid')\r\n",
        "])"
      ],
      "execution_count": 14,
      "outputs": []
    },
    {
      "cell_type": "code",
      "metadata": {
        "id": "DSFjfzV50gWu"
      },
      "source": [
        "model.compile(loss='binary_crossentropy',\r\n",
        "              optimizer=Adam(lr=1e-4),\r\n",
        "              metrics=['acc'])"
      ],
      "execution_count": 17,
      "outputs": []
    },
    {
      "cell_type": "markdown",
      "metadata": {
        "id": "Cjgih3Me1H7-"
      },
      "source": [
        "## Image Data Generatory"
      ]
    },
    {
      "cell_type": "code",
      "metadata": {
        "colab": {
          "base_uri": "https://localhost:8080/"
        },
        "id": "sVrL9Ase0-vi",
        "outputId": "260ea984-0e21-4382-f52a-61194143e192"
      },
      "source": [
        "train_datagen = ImageDataGenerator(rescale=1./255)\r\n",
        "test_datagen = ImageDataGenerator(rescale=1./255)\r\n",
        "\r\n",
        "train_generator = train_datagen.flow_from_directory(\r\n",
        "        train_dir,  # 文件夹路径\r\n",
        "        target_size=(64, 64),  # 指定resize成的大小\r\n",
        "        batch_size=20,\r\n",
        "        # 如果one-hot就是categorical，二分类用binary就可以\r\n",
        "        class_mode='binary')\r\n",
        "\r\n",
        "validation_generator = test_datagen.flow_from_directory(\r\n",
        "        validation_dir,\r\n",
        "        target_size=(64, 64),\r\n",
        "        batch_size=20,\r\n",
        "        class_mode='binary')"
      ],
      "execution_count": 18,
      "outputs": [
        {
          "output_type": "stream",
          "text": [
            "Found 2000 images belonging to 2 classes.\n",
            "Found 1000 images belonging to 2 classes.\n"
          ],
          "name": "stdout"
        }
      ]
    },
    {
      "cell_type": "code",
      "metadata": {
        "colab": {
          "base_uri": "https://localhost:8080/"
        },
        "id": "Ku0E-3UV1foX",
        "outputId": "5fd84cea-a9ba-4db3-c375-c9603c05e5cd"
      },
      "source": [
        "history = model.fit_generator(\r\n",
        "      train_generator,\r\n",
        "      steps_per_epoch=100,  # 2000 images = batch_size * steps\r\n",
        "      epochs=2,\r\n",
        "      validation_data=validation_generator,\r\n",
        "      validation_steps=50,  # 1000 images = batch_size * steps\r\n",
        "      verbose=2)"
      ],
      "execution_count": 20,
      "outputs": [
        {
          "output_type": "stream",
          "text": [
            "Epoch 1/2\n",
            "100/100 - 25s - loss: 0.6847 - acc: 0.5355 - val_loss: 0.6695 - val_acc: 0.6380\n",
            "Epoch 2/2\n",
            "100/100 - 25s - loss: 0.6491 - acc: 0.6395 - val_loss: 0.6257 - val_acc: 0.6510\n"
          ],
          "name": "stdout"
        }
      ]
    },
    {
      "cell_type": "code",
      "metadata": {
        "colab": {
          "base_uri": "https://localhost:8080/",
          "height": 544
        },
        "id": "1f8RQQJK3LAw",
        "outputId": "99051b02-8881-4013-93b6-c3d246d77f7a"
      },
      "source": [
        "import matplotlib.pyplot as plt\r\n",
        "acc = history.history['acc']\r\n",
        "val_acc = history.history['val_acc']\r\n",
        "loss = history.history['loss']\r\n",
        "val_loss = history.history['val_loss']\r\n",
        "\r\n",
        "epochs = range(len(acc))\r\n",
        "\r\n",
        "plt.plot(epochs, acc, 'bo', label='Training accuracy')\r\n",
        "plt.plot(epochs, val_acc, 'b', label='Validation accuracy')\r\n",
        "plt.title('Training and validation accuracy')\r\n",
        "\r\n",
        "plt.figure()\r\n",
        "\r\n",
        "plt.plot(epochs, loss, 'bo', label='Training Loss')\r\n",
        "plt.plot(epochs, val_loss, 'b', label='Validation Loss')\r\n",
        "plt.title('Training and validation loss')\r\n",
        "plt.legend()\r\n",
        "\r\n",
        "plt.show()"
      ],
      "execution_count": 21,
      "outputs": [
        {
          "output_type": "display_data",
          "data": {
            "image/png": "[encoded data removed]",
            "text/plain": [
              "<Figure size 432x288 with 1 Axes>"
            ]
          },
          "metadata": {
            "tags": [],
            "needs_background": "light"
          }
        },
        {
          "output_type": "display_data",
          "data": {
            "image/png": "[encoded data removed]",
            "text/plain": [
              "<Figure size 432x288 with 1 Axes>"
            ]
          },
          "metadata": {
            "tags": [],
            "needs_background": "light"
          }
        }
      ]
    }
  ]
}