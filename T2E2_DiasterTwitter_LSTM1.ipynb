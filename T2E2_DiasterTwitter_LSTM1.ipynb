{
  "nbformat": 4,
  "nbformat_minor": 0,
  "metadata": {
    "colab": {
      "name": "T2E2_DiasterTwitter.ipynb",
      "provenance": [],
      "collapsed_sections": [],
      "mount_file_id": "1u_Vd1oYEaQeccuXuFQe4MQ9H9TPtwycE",
      "authorship_tag": "ABX9TyOYYKj/GmVeZOhseGrkHIpY",
      "include_colab_link": true
    },
    "kernelspec": {
      "name": "python3",
      "display_name": "Python 3"
    },
    "accelerator": "GPU"
  },
  "cells": [
    {
      "cell_type": "markdown",
      "metadata": {
        "id": "view-in-github",
        "colab_type": "text"
      },
      "source": [
        "<a href=\"https://colab.research.google.com/github/gamecicn/TF2_Study/blob/KaggleTwitterDiaster/T2E2_DiasterTwitter_LSTM1.ipynb\" target=\"_parent\"><img src=\"https://colab.research.google.com/assets/colab-badge.svg\" alt=\"Open In Colab\"/></a>"
      ]
    },
    {
      "cell_type": "markdown",
      "metadata": {
        "id": "-E83QexG05b1"
      },
      "source": [
        "# Score : 0.78363\r\n",
        "# Rank : 889/1216"
      ]
    },
    {
      "cell_type": "code",
      "metadata": {
        "id": "4pjgXjoa-u3S"
      },
      "source": [
        "import numpy as np\r\n",
        "import nltk\r\n",
        "import tensorflow as tf\r\n",
        "import pandas as pd\r\n",
        "\r\n",
        "from tensorflow.keras import layers\r\n",
        "from tensorflow.keras import losses\r\n",
        "from tensorflow.keras import preprocessing\r\n",
        "from tensorflow.keras.layers.experimental.preprocessing import TextVectorization"
      ],
      "execution_count": 2,
      "outputs": []
    },
    {
      "cell_type": "code",
      "metadata": {
        "id": "5q-g4mho_a4x"
      },
      "source": [
        "df_data = pd.read_csv('/content/drive/MyDrive/DS_data/TwitterDisaster/train.csv')\r\n",
        "df_test = pd.read_csv('/content/drive/MyDrive/DS_data/TwitterDisaster/test.csv')"
      ],
      "execution_count": 3,
      "outputs": []
    },
    {
      "cell_type": "code",
      "metadata": {
        "colab": {
          "base_uri": "https://localhost:8080/"
        },
        "id": "zaaRzLYNFJOA",
        "outputId": "be7939c4-632c-4294-c503-885a0fb7dbd9"
      },
      "source": [
        "df_data_copy = df_data.copy()\r\n",
        "\r\n",
        "df_train  = df_data_copy.sample(frac=0.99, random_state=0)\r\n",
        "df_valid = df_data_copy.drop(df_train.index)\r\n",
        "\r\n",
        "df_train_labels = df_train.pop('target')\r\n",
        "df_valid_labels = df_valid.pop('target')\r\n",
        "\r\n",
        "print(\"lenght of train is {}\".format(len(df_train)))\r\n",
        "print(\"lenght of valid is {}\".format(len(df_valid)))"
      ],
      "execution_count": 4,
      "outputs": [
        {
          "output_type": "stream",
          "text": [
            "lenght of train is 7537\n",
            "lenght of valid is 76\n"
          ],
          "name": "stdout"
        }
      ]
    },
    {
      "cell_type": "code",
      "metadata": {
        "colab": {
          "base_uri": "https://localhost:8080/",
          "height": 197
        },
        "id": "96ygxSkPKZ8K",
        "outputId": "08f869a5-3675-4a79-d4b5-d7e99adba1a7"
      },
      "source": [
        "df_test.head()"
      ],
      "execution_count": 5,
      "outputs": [
        {
          "output_type": "execute_result",
          "data": {
            "text/html": [
              "<div>\n",
              "<style scoped>\n",
              "    .dataframe tbody tr th:only-of-type {\n",
              "        vertical-align: middle;\n",
              "    }\n",
              "\n",
              "    .dataframe tbody tr th {\n",
              "        vertical-align: top;\n",
              "    }\n",
              "\n",
              "    .dataframe thead th {\n",
              "        text-align: right;\n",
              "    }\n",
              "</style>\n",
              "<table border=\"1\" class=\"dataframe\">\n",
              "  <thead>\n",
              "    <tr style=\"text-align: right;\">\n",
              "      <th></th>\n",
              "      <th>id</th>\n",
              "      <th>keyword</th>\n",
              "      <th>location</th>\n",
              "      <th>text</th>\n",
              "    </tr>\n",
              "  </thead>\n",
              "  <tbody>\n",
              "    <tr>\n",
              "      <th>0</th>\n",
              "      <td>0</td>\n",
              "      <td>NaN</td>\n",
              "      <td>NaN</td>\n",
              "      <td>Just happened a terrible car crash</td>\n",
              "    </tr>\n",
              "    <tr>\n",
              "      <th>1</th>\n",
              "      <td>2</td>\n",
              "      <td>NaN</td>\n",
              "      <td>NaN</td>\n",
              "      <td>Heard about #earthquake is different cities, s...</td>\n",
              "    </tr>\n",
              "    <tr>\n",
              "      <th>2</th>\n",
              "      <td>3</td>\n",
              "      <td>NaN</td>\n",
              "      <td>NaN</td>\n",
              "      <td>there is a forest fire at spot pond, geese are...</td>\n",
              "    </tr>\n",
              "    <tr>\n",
              "      <th>3</th>\n",
              "      <td>9</td>\n",
              "      <td>NaN</td>\n",
              "      <td>NaN</td>\n",
              "      <td>Apocalypse lighting. #Spokane #wildfires</td>\n",
              "    </tr>\n",
              "    <tr>\n",
              "      <th>4</th>\n",
              "      <td>11</td>\n",
              "      <td>NaN</td>\n",
              "      <td>NaN</td>\n",
              "      <td>Typhoon Soudelor kills 28 in China and Taiwan</td>\n",
              "    </tr>\n",
              "  </tbody>\n",
              "</table>\n",
              "</div>"
            ],
            "text/plain": [
              "   id keyword location                                               text\n",
              "0   0     NaN      NaN                 Just happened a terrible car crash\n",
              "1   2     NaN      NaN  Heard about #earthquake is different cities, s...\n",
              "2   3     NaN      NaN  there is a forest fire at spot pond, geese are...\n",
              "3   9     NaN      NaN           Apocalypse lighting. #Spokane #wildfires\n",
              "4  11     NaN      NaN      Typhoon Soudelor kills 28 in China and Taiwan"
            ]
          },
          "metadata": {
            "tags": []
          },
          "execution_count": 5
        }
      ]
    },
    {
      "cell_type": "code",
      "metadata": {
        "id": "T7uibu2WFgrx"
      },
      "source": [
        "def custom_standardization(input_data):\r\n",
        "  lowercase = tf.strings.lower(input_data)\r\n",
        "  stripped  = tf.strings.regex_replace(lowercase, '<br />', ' ')\r\n",
        "  stripped  = tf.strings.regex_replace(lowercase, '#', ' ')\r\n",
        "  stripped  = tf.strings.regex_replace(lowercase, '@', ' ')\r\n",
        "  return stripped"
      ],
      "execution_count": 6,
      "outputs": []
    },
    {
      "cell_type": "markdown",
      "metadata": {
        "id": "x9kS3cJDNRvw"
      },
      "source": [
        "## Vectorizlize Text"
      ]
    },
    {
      "cell_type": "code",
      "metadata": {
        "id": "18UqOWZoHvgO"
      },
      "source": [
        "VOCAB_SIZE = 10000\r\n",
        "sequence_length = 140\r\n",
        "\r\n",
        "vectorize_layer = TextVectorization(\r\n",
        "    standardize=custom_standardization,\r\n",
        "    max_tokens=VOCAB_SIZE,\r\n",
        "    output_mode='int',\r\n",
        "    output_sequence_length=sequence_length)\r\n",
        "\r\n",
        "# Make a text-only dataset (without labels), then call adapt\r\n",
        "vectorize_layer.adapt(df_train['text'].to_numpy())"
      ],
      "execution_count": 16,
      "outputs": []
    },
    {
      "cell_type": "markdown",
      "metadata": {
        "id": "ZgStGAPFJTG3"
      },
      "source": [
        "### Build  Model"
      ]
    },
    {
      "cell_type": "code",
      "metadata": {
        "id": "Aj_oZ2njJU0u"
      },
      "source": [
        "\r\n",
        "model = tf.keras.Sequential([\r\n",
        "  vectorize_layer,                           \r\n",
        "  layers.Embedding(VOCAB_SIZE , 32),\r\n",
        "  tf.keras.layers.Bidirectional(tf.keras.layers.LSTM(32)),\r\n",
        "  tf.keras.layers.Dense(32, activation='relu'),\r\n",
        "  tf.keras.layers.Dense(1)\r\n",
        "  ])\r\n",
        "\r\n"
      ],
      "execution_count": 17,
      "outputs": []
    },
    {
      "cell_type": "code",
      "metadata": {
        "colab": {
          "base_uri": "https://localhost:8080/"
        },
        "id": "XudS63KPMydQ",
        "outputId": "6e9f6502-2555-4ac3-f007-c7105fe62a00"
      },
      "source": [
        "model.compile(loss=losses.BinaryCrossentropy(from_logits=True),\r\n",
        "              optimizer=tf.keras.optimizers.Adam(1e-4),\r\n",
        "              metrics='accuracy')\r\n",
        "\r\n",
        "epochs = 10\r\n",
        "history = model.fit(\r\n",
        "    df_train['text'].to_numpy(), \r\n",
        "    df_train_labels,\r\n",
        "    epochs=epochs)\r\n",
        "\r\n",
        "model.summary()"
      ],
      "execution_count": 18,
      "outputs": [
        {
          "output_type": "stream",
          "text": [
            "Epoch 1/10\n",
            "236/236 [==============================] - 7s 17ms/step - loss: 0.6883 - accuracy: 0.5719\n",
            "Epoch 2/10\n",
            "236/236 [==============================] - 4s 16ms/step - loss: 0.6608 - accuracy: 0.5708\n",
            "Epoch 3/10\n",
            "236/236 [==============================] - 4s 17ms/step - loss: 0.5383 - accuracy: 0.6935\n",
            "Epoch 4/10\n",
            "236/236 [==============================] - 4s 16ms/step - loss: 0.4275 - accuracy: 0.7952\n",
            "Epoch 5/10\n",
            "236/236 [==============================] - 4s 17ms/step - loss: 0.3668 - accuracy: 0.8307\n",
            "Epoch 6/10\n",
            "236/236 [==============================] - 4s 17ms/step - loss: 0.3287 - accuracy: 0.8542\n",
            "Epoch 7/10\n",
            "236/236 [==============================] - 4s 17ms/step - loss: 0.2832 - accuracy: 0.8770\n",
            "Epoch 8/10\n",
            "236/236 [==============================] - 4s 16ms/step - loss: 0.2505 - accuracy: 0.8904\n",
            "Epoch 9/10\n",
            "236/236 [==============================] - 4s 16ms/step - loss: 0.2278 - accuracy: 0.9030\n",
            "Epoch 10/10\n",
            "236/236 [==============================] - 4s 17ms/step - loss: 0.1984 - accuracy: 0.9191\n",
            "Model: \"sequential_5\"\n",
            "_________________________________________________________________\n",
            "Layer (type)                 Output Shape              Param #   \n",
            "=================================================================\n",
            "text_vectorization_2 (TextVe (None, 140)               0         \n",
            "_________________________________________________________________\n",
            "embedding_5 (Embedding)      (None, 140, 32)           320000    \n",
            "_________________________________________________________________\n",
            "bidirectional_5 (Bidirection (None, 64)                16640     \n",
            "_________________________________________________________________\n",
            "dense_10 (Dense)             (None, 32)                2080      \n",
            "_________________________________________________________________\n",
            "dense_11 (Dense)             (None, 1)                 33        \n",
            "=================================================================\n",
            "Total params: 338,753\n",
            "Trainable params: 338,753\n",
            "Non-trainable params: 0\n",
            "_________________________________________________________________\n"
          ],
          "name": "stdout"
        }
      ]
    },
    {
      "cell_type": "markdown",
      "metadata": {
        "id": "IAhD7GUATqqm"
      },
      "source": [
        "## Evaluate the model"
      ]
    },
    {
      "cell_type": "code",
      "metadata": {
        "colab": {
          "base_uri": "https://localhost:8080/"
        },
        "id": "Rsle8c-FTr1f",
        "outputId": "79393820-6556-4faf-d64f-f9033be86135"
      },
      "source": [
        "loss, accuracy = model.evaluate(df_valid['text'], df_valid_labels)\r\n",
        "\r\n",
        "print(\"Loss: \", loss)\r\n",
        "print(\"Accuracy: \", accuracy)"
      ],
      "execution_count": 19,
      "outputs": [
        {
          "output_type": "stream",
          "text": [
            "3/3 [==============================] - 1s 11ms/step - loss: 0.5533 - accuracy: 0.7500\n",
            "Loss:  0.553347647190094\n",
            "Accuracy:  0.75\n"
          ],
          "name": "stdout"
        }
      ]
    },
    {
      "cell_type": "markdown",
      "metadata": {
        "id": "JIDky2dhVvhC"
      },
      "source": [
        "## Prediction"
      ]
    },
    {
      "cell_type": "code",
      "metadata": {
        "id": "o-S2akkpTm_c"
      },
      "source": [
        "prediction_model = tf.keras.Sequential([model, \r\n",
        "                                        layers.Activation('sigmoid')])\r\n",
        "\r\n",
        "predictions = prediction_model.predict(df_test['text'].to_numpy())\r\n",
        "\r\n"
      ],
      "execution_count": 20,
      "outputs": []
    },
    {
      "cell_type": "code",
      "metadata": {
        "colab": {
          "base_uri": "https://localhost:8080/",
          "height": 197
        },
        "id": "_ZFTwCoY0Xjd",
        "outputId": "d259896b-faf8-481b-c355-8a272ba735ef"
      },
      "source": [
        "df_test.head()"
      ],
      "execution_count": 25,
      "outputs": [
        {
          "output_type": "execute_result",
          "data": {
            "text/html": [
              "<div>\n",
              "<style scoped>\n",
              "    .dataframe tbody tr th:only-of-type {\n",
              "        vertical-align: middle;\n",
              "    }\n",
              "\n",
              "    .dataframe tbody tr th {\n",
              "        vertical-align: top;\n",
              "    }\n",
              "\n",
              "    .dataframe thead th {\n",
              "        text-align: right;\n",
              "    }\n",
              "</style>\n",
              "<table border=\"1\" class=\"dataframe\">\n",
              "  <thead>\n",
              "    <tr style=\"text-align: right;\">\n",
              "      <th></th>\n",
              "      <th>id</th>\n",
              "      <th>keyword</th>\n",
              "      <th>location</th>\n",
              "      <th>text</th>\n",
              "    </tr>\n",
              "  </thead>\n",
              "  <tbody>\n",
              "    <tr>\n",
              "      <th>0</th>\n",
              "      <td>0</td>\n",
              "      <td>NaN</td>\n",
              "      <td>NaN</td>\n",
              "      <td>Just happened a terrible car crash</td>\n",
              "    </tr>\n",
              "    <tr>\n",
              "      <th>1</th>\n",
              "      <td>2</td>\n",
              "      <td>NaN</td>\n",
              "      <td>NaN</td>\n",
              "      <td>Heard about #earthquake is different cities, s...</td>\n",
              "    </tr>\n",
              "    <tr>\n",
              "      <th>2</th>\n",
              "      <td>3</td>\n",
              "      <td>NaN</td>\n",
              "      <td>NaN</td>\n",
              "      <td>there is a forest fire at spot pond, geese are...</td>\n",
              "    </tr>\n",
              "    <tr>\n",
              "      <th>3</th>\n",
              "      <td>9</td>\n",
              "      <td>NaN</td>\n",
              "      <td>NaN</td>\n",
              "      <td>Apocalypse lighting. #Spokane #wildfires</td>\n",
              "    </tr>\n",
              "    <tr>\n",
              "      <th>4</th>\n",
              "      <td>11</td>\n",
              "      <td>NaN</td>\n",
              "      <td>NaN</td>\n",
              "      <td>Typhoon Soudelor kills 28 in China and Taiwan</td>\n",
              "    </tr>\n",
              "  </tbody>\n",
              "</table>\n",
              "</div>"
            ],
            "text/plain": [
              "   id keyword location                                               text\n",
              "0   0     NaN      NaN                 Just happened a terrible car crash\n",
              "1   2     NaN      NaN  Heard about #earthquake is different cities, s...\n",
              "2   3     NaN      NaN  there is a forest fire at spot pond, geese are...\n",
              "3   9     NaN      NaN           Apocalypse lighting. #Spokane #wildfires\n",
              "4  11     NaN      NaN      Typhoon Soudelor kills 28 in China and Taiwan"
            ]
          },
          "metadata": {
            "tags": []
          },
          "execution_count": 25
        }
      ]
    },
    {
      "cell_type": "code",
      "metadata": {
        "id": "mHST9BlyY5L5"
      },
      "source": [
        "res = pd.DataFrame(data = {\"id\" : df_test['id'] , \r\n",
        "                           \"target\"   : map(lambda x: '0' if x<0.5 else '1', predictions)})\r\n",
        "\r\n",
        "res.to_csv(\"/content/drive/MyDrive/output/Kaggle_twitterDisaster_LSTM1.csv\", index=False)"
      ],
      "execution_count": 27,
      "outputs": []
    },
    {
      "cell_type": "code",
      "metadata": {
        "id": "v21MweQP0ugQ"
      },
      "source": [
        ""
      ],
      "execution_count": null,
      "outputs": []
    }
  ]
}