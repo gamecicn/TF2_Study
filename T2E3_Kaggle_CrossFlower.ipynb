{
  "nbformat": 4,
  "nbformat_minor": 0,
  "metadata": {
    "colab": {
      "name": "T2E3 Kaggle_CrossFlower.ipynb",
      "provenance": [],
      "collapsed_sections": [],
      "toc_visible": true,
      "mount_file_id": "1j5gTdZ39a07gNU4juco_3p2UiuQ8Sr_K",
      "authorship_tag": "ABX9TyOpAjE5rXDwYoA1hrBWClMj",
      "include_colab_link": true
    },
    "kernelspec": {
      "name": "python3",
      "display_name": "Python 3"
    }
  },
  "cells": [
    {
      "cell_type": "markdown",
      "metadata": {
        "id": "view-in-github",
        "colab_type": "text"
      },
      "source": [
        "<a href=\"https://colab.research.google.com/github/gamecicn/TF2_Study/blob/KaggleCrowdFlowerSearch/T2E3_Kaggle_CrossFlower.ipynb\" target=\"_parent\"><img src=\"https://colab.research.google.com/assets/colab-badge.svg\" alt=\"Open In Colab\"/></a>"
      ]
    },
    {
      "cell_type": "markdown",
      "metadata": {
        "id": "Gcp_G9336kJc"
      },
      "source": [
        "## Crowdflower Search Results Relevance\r\n",
        "\r\n",
        "https://www.kaggle.com/c/crowdflower-search-relevance/overview"
      ]
    },
    {
      "cell_type": "code",
      "metadata": {
        "id": "njEi7atr5-qn"
      },
      "source": [
        "import pandas as pd \r\n",
        "import numpy as np\r\n",
        "import tensorflow as tf\r\n",
        "import matplotlib.pyplot as plt"
      ],
      "execution_count": 8,
      "outputs": []
    },
    {
      "cell_type": "code",
      "metadata": {
        "colab": {
          "base_uri": "https://localhost:8080/",
          "height": 197
        },
        "id": "48Ao-60h9cng",
        "outputId": "b757a765-765f-4f1c-a25a-63d33e4d450c"
      },
      "source": [
        "\r\n",
        "# Download Data\r\n",
        "csv_train_file = '/content/drive/MyDrive/DS_data/KaggleCrowdFlowerSearch/train.csv'\r\n",
        "csv_test_file = '/content/drive/MyDrive/DS_data/KaggleCrowdFlowerSearch/test.csv'\r\n",
        "\r\n",
        "df_data = pd.read_csv(csv_train_file)\r\n",
        "df_test = pd.read_csv(csv_test_file)\r\n",
        "\r\n",
        "df_data.head()"
      ],
      "execution_count": 2,
      "outputs": [
        {
          "output_type": "execute_result",
          "data": {
            "text/html": [
              "<div>\n",
              "<style scoped>\n",
              "    .dataframe tbody tr th:only-of-type {\n",
              "        vertical-align: middle;\n",
              "    }\n",
              "\n",
              "    .dataframe tbody tr th {\n",
              "        vertical-align: top;\n",
              "    }\n",
              "\n",
              "    .dataframe thead th {\n",
              "        text-align: right;\n",
              "    }\n",
              "</style>\n",
              "<table border=\"1\" class=\"dataframe\">\n",
              "  <thead>\n",
              "    <tr style=\"text-align: right;\">\n",
              "      <th></th>\n",
              "      <th>id</th>\n",
              "      <th>query</th>\n",
              "      <th>product_title</th>\n",
              "      <th>product_description</th>\n",
              "      <th>median_relevance</th>\n",
              "      <th>relevance_variance</th>\n",
              "    </tr>\n",
              "  </thead>\n",
              "  <tbody>\n",
              "    <tr>\n",
              "      <th>0</th>\n",
              "      <td>1</td>\n",
              "      <td>bridal shower decorations</td>\n",
              "      <td>Accent Pillow with Heart Design - Red/Black</td>\n",
              "      <td>Red satin accent pillow embroidered with a hea...</td>\n",
              "      <td>1</td>\n",
              "      <td>0.000</td>\n",
              "    </tr>\n",
              "    <tr>\n",
              "      <th>1</th>\n",
              "      <td>2</td>\n",
              "      <td>led christmas lights</td>\n",
              "      <td>Set of 10 Battery Operated Multi LED Train Chr...</td>\n",
              "      <td>Set of 10 Battery Operated Train Christmas Lig...</td>\n",
              "      <td>4</td>\n",
              "      <td>0.000</td>\n",
              "    </tr>\n",
              "    <tr>\n",
              "      <th>2</th>\n",
              "      <td>4</td>\n",
              "      <td>projector</td>\n",
              "      <td>ViewSonic Pro8200 DLP Multimedia Projector</td>\n",
              "      <td>NaN</td>\n",
              "      <td>4</td>\n",
              "      <td>0.471</td>\n",
              "    </tr>\n",
              "    <tr>\n",
              "      <th>3</th>\n",
              "      <td>5</td>\n",
              "      <td>wine rack</td>\n",
              "      <td>Concept Housewares WR-44526 Solid-Wood Ceiling...</td>\n",
              "      <td>Like a silent and sturdy tree, the Southern En...</td>\n",
              "      <td>4</td>\n",
              "      <td>0.000</td>\n",
              "    </tr>\n",
              "    <tr>\n",
              "      <th>4</th>\n",
              "      <td>7</td>\n",
              "      <td>light bulb</td>\n",
              "      <td>Wintergreen Lighting Christmas LED Light Bulb ...</td>\n",
              "      <td>WTGR1011\\nFeatures\\nNickel base, 60,000 averag...</td>\n",
              "      <td>2</td>\n",
              "      <td>0.471</td>\n",
              "    </tr>\n",
              "  </tbody>\n",
              "</table>\n",
              "</div>"
            ],
            "text/plain": [
              "   id                      query  ... median_relevance relevance_variance\n",
              "0   1  bridal shower decorations  ...                1              0.000\n",
              "1   2       led christmas lights  ...                4              0.000\n",
              "2   4                  projector  ...                4              0.471\n",
              "3   5                  wine rack  ...                4              0.000\n",
              "4   7                 light bulb  ...                2              0.471\n",
              "\n",
              "[5 rows x 6 columns]"
            ]
          },
          "metadata": {
            "tags": []
          },
          "execution_count": 2
        }
      ]
    },
    {
      "cell_type": "code",
      "metadata": {
        "colab": {
          "base_uri": "https://localhost:8080/",
          "height": 197
        },
        "id": "Y33G2BHf-pvQ",
        "outputId": "986d4673-16f6-4b96-8ce6-d3a21da74939"
      },
      "source": [
        "df_test.head()"
      ],
      "execution_count": 7,
      "outputs": [
        {
          "output_type": "execute_result",
          "data": {
            "text/html": [
              "<div>\n",
              "<style scoped>\n",
              "    .dataframe tbody tr th:only-of-type {\n",
              "        vertical-align: middle;\n",
              "    }\n",
              "\n",
              "    .dataframe tbody tr th {\n",
              "        vertical-align: top;\n",
              "    }\n",
              "\n",
              "    .dataframe thead th {\n",
              "        text-align: right;\n",
              "    }\n",
              "</style>\n",
              "<table border=\"1\" class=\"dataframe\">\n",
              "  <thead>\n",
              "    <tr style=\"text-align: right;\">\n",
              "      <th></th>\n",
              "      <th>id</th>\n",
              "      <th>query</th>\n",
              "      <th>product_title</th>\n",
              "      <th>product_description</th>\n",
              "    </tr>\n",
              "  </thead>\n",
              "  <tbody>\n",
              "    <tr>\n",
              "      <th>0</th>\n",
              "      <td>3</td>\n",
              "      <td>electric griddle</td>\n",
              "      <td>Star-Max 48 in Electric Griddle</td>\n",
              "      <td>NaN</td>\n",
              "    </tr>\n",
              "    <tr>\n",
              "      <th>1</th>\n",
              "      <td>6</td>\n",
              "      <td>phillips coffee maker</td>\n",
              "      <td>Philips SENSEO HD7810 WHITE Single Serve Pod C...</td>\n",
              "      <td>NaN</td>\n",
              "    </tr>\n",
              "    <tr>\n",
              "      <th>2</th>\n",
              "      <td>9</td>\n",
              "      <td>san francisco 49ers</td>\n",
              "      <td>2013 San Francisco 49ers Clock</td>\n",
              "      <td>A 2013 San Francisco 49ers clock is the ultima...</td>\n",
              "    </tr>\n",
              "    <tr>\n",
              "      <th>3</th>\n",
              "      <td>11</td>\n",
              "      <td>aveeno shampoo</td>\n",
              "      <td>AVEENO       10.5FLOZ NRSH SHINE SH</td>\n",
              "      <td>Water, Ammonium Lauryl Sulfate, Dimethicone, S...</td>\n",
              "    </tr>\n",
              "    <tr>\n",
              "      <th>4</th>\n",
              "      <td>12</td>\n",
              "      <td>flea and tick control for dogs</td>\n",
              "      <td>Merial Frontline Plus Flea and Tick Control fo...</td>\n",
              "      <td>NaN</td>\n",
              "    </tr>\n",
              "  </tbody>\n",
              "</table>\n",
              "</div>"
            ],
            "text/plain": [
              "   id  ...                                product_description\n",
              "0   3  ...                                                NaN\n",
              "1   6  ...                                                NaN\n",
              "2   9  ...  A 2013 San Francisco 49ers clock is the ultima...\n",
              "3  11  ...  Water, Ammonium Lauryl Sulfate, Dimethicone, S...\n",
              "4  12  ...                                                NaN\n",
              "\n",
              "[5 rows x 4 columns]"
            ]
          },
          "metadata": {
            "tags": []
          },
          "execution_count": 7
        }
      ]
    },
    {
      "cell_type": "code",
      "metadata": {
        "colab": {
          "base_uri": "https://localhost:8080/"
        },
        "id": "1xgdl9Qg-Tf0",
        "outputId": "24a385f1-24e6-4ba8-c7f5-3069169b97b9"
      },
      "source": [
        "# Split train data to train and valid dataset\r\n",
        "df_data_copy = df_data.copy()\r\n",
        "\r\n",
        "df_train  = df_data_copy.sample(frac=0.995, random_state=0)\r\n",
        "df_valid = df_data_copy.drop(df_train.index)\r\n",
        "\r\n",
        "print(\"lenght of train is {}\".format(len(df_train)))\r\n",
        "print(\"lenght of valid is {}\".format(len(df_valid)))\r\n",
        "print(\"lenght of test is {}\".format(len(df_test)))\r\n",
        "\r\n",
        "df_train_labels = df_train.pop('median_relevance')\r\n",
        "df_valid_labels = df_valid.pop('median_relevance')"
      ],
      "execution_count": 6,
      "outputs": [
        {
          "output_type": "stream",
          "text": [
            "lenght of train is 10107\n",
            "lenght of valid is 51\n",
            "lenght of test is 22513\n"
          ],
          "name": "stdout"
        }
      ]
    },
    {
      "cell_type": "markdown",
      "metadata": {
        "id": "DN-t_9ry-3SC"
      },
      "source": [
        "## EDA"
      ]
    },
    {
      "cell_type": "code",
      "metadata": {
        "colab": {
          "base_uri": "https://localhost:8080/",
          "height": 281
        },
        "id": "0X7_9EFa-4vn",
        "outputId": "73d0e8b0-fb19-41a9-9f81-d7f5bfa9b0f1"
      },
      "source": [
        "df_data['median_relevance'].plot.hist(grid=True)\r\n",
        "plt.title('median_relevance distribution')\r\n",
        "plt.grid(axis='y', alpha=0.75)"
      ],
      "execution_count": 12,
      "outputs": [
        {
          "output_type": "display_data",
          "data": {
            "image/png": "[encoded data removed]",
            "text/plain": [
              "<Figure size 432x288 with 1 Axes>"
            ]
          },
          "metadata": {
            "tags": [],
            "needs_background": "light"
          }
        }
      ]
    },
    {
      "cell_type": "code",
      "metadata": {
        "colab": {
          "base_uri": "https://localhost:8080/",
          "height": 281
        },
        "id": "7UJ1Rn5Z-2sW",
        "outputId": "83473ce7-f30c-488c-9ff6-594cbac6f686"
      },
      "source": [
        "df_data['relevance_variance'].plot.hist(grid=True)\r\n",
        "plt.title('median_relevance distribution')\r\n",
        "plt.grid(axis='y', alpha=0.75)"
      ],
      "execution_count": 13,
      "outputs": [
        {
          "output_type": "display_data",
          "data": {
            "image/png": "[encoded data removed]",
            "text/plain": [
              "<Figure size 432x288 with 1 Axes>"
            ]
          },
          "metadata": {
            "tags": [],
            "needs_background": "light"
          }
        }
      ]
    },
    {
      "cell_type": "markdown",
      "metadata": {
        "id": "Tgi4JA93-hl8"
      },
      "source": [
        "## Feature Extraction"
      ]
    },
    {
      "cell_type": "code",
      "metadata": {
        "id": "Zlc1MO7JFKGT"
      },
      "source": [
        "def feat_query_in_title(row):\r\n",
        "  try:\r\n",
        "    return 1 if row['product_title'].lower().find(row['query'].lower()) > -1 else 0 \r\n",
        "  except:\r\n",
        "    return 0\r\n",
        "\r\n",
        "def feat_query_in_description(row):\r\n",
        "  try:\r\n",
        "    return 1 if row['product_description'].lower().find(row['query'].lower()) > -1 else 0 \r\n",
        "  except:\r\n",
        "    return 0 "
      ],
      "execution_count": 15,
      "outputs": []
    },
    {
      "cell_type": "code",
      "metadata": {
        "id": "QIQJ16TUBUj5"
      },
      "source": [
        "df_data['feat_query_in_title'] = df_data.apply (lambda row: feat_query_in_title(row), axis=1)\r\n",
        "df_data['feat_query_in_desc']  = df_data.apply (lambda row: feat_query_in_description(row), axis=1)"
      ],
      "execution_count": 16,
      "outputs": []
    },
    {
      "cell_type": "code",
      "metadata": {
        "id": "0Ha4gExsSzsM"
      },
      "source": [
        "df_test['feat_query_in_title'] = df_test.apply (lambda row: feat_query_in_title(row), axis=1)\r\n",
        "df_test['feat_query_in_desc']  = df_test.apply (lambda row: feat_query_in_description(row), axis=1)"
      ],
      "execution_count": 25,
      "outputs": []
    },
    {
      "cell_type": "code",
      "metadata": {
        "colab": {
          "base_uri": "https://localhost:8080/",
          "height": 247
        },
        "id": "JCVpiJ1sG2na",
        "outputId": "0a8bad38-553b-4e4c-e845-2bfb6472d498"
      },
      "source": [
        "df_data.head()"
      ],
      "execution_count": 17,
      "outputs": [
        {
          "output_type": "execute_result",
          "data": {
            "text/html": [
              "<div>\n",
              "<style scoped>\n",
              "    .dataframe tbody tr th:only-of-type {\n",
              "        vertical-align: middle;\n",
              "    }\n",
              "\n",
              "    .dataframe tbody tr th {\n",
              "        vertical-align: top;\n",
              "    }\n",
              "\n",
              "    .dataframe thead th {\n",
              "        text-align: right;\n",
              "    }\n",
              "</style>\n",
              "<table border=\"1\" class=\"dataframe\">\n",
              "  <thead>\n",
              "    <tr style=\"text-align: right;\">\n",
              "      <th></th>\n",
              "      <th>id</th>\n",
              "      <th>query</th>\n",
              "      <th>product_title</th>\n",
              "      <th>product_description</th>\n",
              "      <th>median_relevance</th>\n",
              "      <th>relevance_variance</th>\n",
              "      <th>feat_query_in_title</th>\n",
              "      <th>feat_query_in_desc</th>\n",
              "    </tr>\n",
              "  </thead>\n",
              "  <tbody>\n",
              "    <tr>\n",
              "      <th>0</th>\n",
              "      <td>1</td>\n",
              "      <td>bridal shower decorations</td>\n",
              "      <td>Accent Pillow with Heart Design - Red/Black</td>\n",
              "      <td>Red satin accent pillow embroidered with a hea...</td>\n",
              "      <td>1</td>\n",
              "      <td>0.000</td>\n",
              "      <td>0</td>\n",
              "      <td>0</td>\n",
              "    </tr>\n",
              "    <tr>\n",
              "      <th>1</th>\n",
              "      <td>2</td>\n",
              "      <td>led christmas lights</td>\n",
              "      <td>Set of 10 Battery Operated Multi LED Train Chr...</td>\n",
              "      <td>Set of 10 Battery Operated Train Christmas Lig...</td>\n",
              "      <td>4</td>\n",
              "      <td>0.000</td>\n",
              "      <td>0</td>\n",
              "      <td>0</td>\n",
              "    </tr>\n",
              "    <tr>\n",
              "      <th>2</th>\n",
              "      <td>4</td>\n",
              "      <td>projector</td>\n",
              "      <td>ViewSonic Pro8200 DLP Multimedia Projector</td>\n",
              "      <td>NaN</td>\n",
              "      <td>4</td>\n",
              "      <td>0.471</td>\n",
              "      <td>1</td>\n",
              "      <td>0</td>\n",
              "    </tr>\n",
              "    <tr>\n",
              "      <th>3</th>\n",
              "      <td>5</td>\n",
              "      <td>wine rack</td>\n",
              "      <td>Concept Housewares WR-44526 Solid-Wood Ceiling...</td>\n",
              "      <td>Like a silent and sturdy tree, the Southern En...</td>\n",
              "      <td>4</td>\n",
              "      <td>0.000</td>\n",
              "      <td>1</td>\n",
              "      <td>0</td>\n",
              "    </tr>\n",
              "    <tr>\n",
              "      <th>4</th>\n",
              "      <td>7</td>\n",
              "      <td>light bulb</td>\n",
              "      <td>Wintergreen Lighting Christmas LED Light Bulb ...</td>\n",
              "      <td>WTGR1011\\nFeatures\\nNickel base, 60,000 averag...</td>\n",
              "      <td>2</td>\n",
              "      <td>0.471</td>\n",
              "      <td>1</td>\n",
              "      <td>1</td>\n",
              "    </tr>\n",
              "  </tbody>\n",
              "</table>\n",
              "</div>"
            ],
            "text/plain": [
              "   id                      query  ... feat_query_in_title feat_query_in_desc\n",
              "0   1  bridal shower decorations  ...                   0                  0\n",
              "1   2       led christmas lights  ...                   0                  0\n",
              "2   4                  projector  ...                   1                  0\n",
              "3   5                  wine rack  ...                   1                  0\n",
              "4   7                 light bulb  ...                   1                  1\n",
              "\n",
              "[5 rows x 8 columns]"
            ]
          },
          "metadata": {
            "tags": []
          },
          "execution_count": 17
        }
      ]
    },
    {
      "cell_type": "code",
      "metadata": {
        "colab": {
          "base_uri": "https://localhost:8080/",
          "height": 406
        },
        "id": "zrwMmnkoSpH7",
        "outputId": "13776933-125f-4b85-eb96-80d8d7c4be2c"
      },
      "source": [
        "df_data[[\"feat_query_in_title\", 'feat_query_in_title']]"
      ],
      "execution_count": 23,
      "outputs": [
        {
          "output_type": "execute_result",
          "data": {
            "text/html": [
              "<div>\n",
              "<style scoped>\n",
              "    .dataframe tbody tr th:only-of-type {\n",
              "        vertical-align: middle;\n",
              "    }\n",
              "\n",
              "    .dataframe tbody tr th {\n",
              "        vertical-align: top;\n",
              "    }\n",
              "\n",
              "    .dataframe thead th {\n",
              "        text-align: right;\n",
              "    }\n",
              "</style>\n",
              "<table border=\"1\" class=\"dataframe\">\n",
              "  <thead>\n",
              "    <tr style=\"text-align: right;\">\n",
              "      <th></th>\n",
              "      <th>feat_query_in_title</th>\n",
              "      <th>feat_query_in_title</th>\n",
              "    </tr>\n",
              "  </thead>\n",
              "  <tbody>\n",
              "    <tr>\n",
              "      <th>0</th>\n",
              "      <td>0</td>\n",
              "      <td>0</td>\n",
              "    </tr>\n",
              "    <tr>\n",
              "      <th>1</th>\n",
              "      <td>0</td>\n",
              "      <td>0</td>\n",
              "    </tr>\n",
              "    <tr>\n",
              "      <th>2</th>\n",
              "      <td>1</td>\n",
              "      <td>1</td>\n",
              "    </tr>\n",
              "    <tr>\n",
              "      <th>3</th>\n",
              "      <td>1</td>\n",
              "      <td>1</td>\n",
              "    </tr>\n",
              "    <tr>\n",
              "      <th>4</th>\n",
              "      <td>1</td>\n",
              "      <td>1</td>\n",
              "    </tr>\n",
              "    <tr>\n",
              "      <th>...</th>\n",
              "      <td>...</td>\n",
              "      <td>...</td>\n",
              "    </tr>\n",
              "    <tr>\n",
              "      <th>10153</th>\n",
              "      <td>0</td>\n",
              "      <td>0</td>\n",
              "    </tr>\n",
              "    <tr>\n",
              "      <th>10154</th>\n",
              "      <td>0</td>\n",
              "      <td>0</td>\n",
              "    </tr>\n",
              "    <tr>\n",
              "      <th>10155</th>\n",
              "      <td>0</td>\n",
              "      <td>0</td>\n",
              "    </tr>\n",
              "    <tr>\n",
              "      <th>10156</th>\n",
              "      <td>0</td>\n",
              "      <td>0</td>\n",
              "    </tr>\n",
              "    <tr>\n",
              "      <th>10157</th>\n",
              "      <td>0</td>\n",
              "      <td>0</td>\n",
              "    </tr>\n",
              "  </tbody>\n",
              "</table>\n",
              "<p>10158 rows × 2 columns</p>\n",
              "</div>"
            ],
            "text/plain": [
              "       feat_query_in_title  feat_query_in_title\n",
              "0                        0                    0\n",
              "1                        0                    0\n",
              "2                        1                    1\n",
              "3                        1                    1\n",
              "4                        1                    1\n",
              "...                    ...                  ...\n",
              "10153                    0                    0\n",
              "10154                    0                    0\n",
              "10155                    0                    0\n",
              "10156                    0                    0\n",
              "10157                    0                    0\n",
              "\n",
              "[10158 rows x 2 columns]"
            ]
          },
          "metadata": {
            "tags": []
          },
          "execution_count": 23
        }
      ]
    },
    {
      "cell_type": "markdown",
      "metadata": {
        "id": "jkwWawVXI1FM"
      },
      "source": [
        "## Build Model"
      ]
    },
    {
      "cell_type": "code",
      "metadata": {
        "colab": {
          "base_uri": "https://localhost:8080/"
        },
        "id": "WGR3o8E5I29D",
        "outputId": "af6f18c7-3922-4f9b-fe29-cd4cced6268f"
      },
      "source": [
        "\r\n",
        "model = tf.keras.Sequential([\r\n",
        "    tf.keras.layers.Dense(2, activation='relu'),\r\n",
        "    tf.keras.layers.Dense(1)\r\n",
        "])\r\n",
        "\r\n",
        "model.compile(optimizer='adam',\r\n",
        "              loss=tf.keras.losses.MeanAbsoluteError())\r\n",
        "\r\n",
        "history = model.fit(df_data[[\"feat_query_in_title\", 'feat_query_in_title']].to_numpy(), \r\n",
        "                    df_data[\"median_relevance\"],\r\n",
        "                    epochs=10)"
      ],
      "execution_count": 24,
      "outputs": [
        {
          "output_type": "stream",
          "text": [
            "Epoch 1/10\n",
            "318/318 [==============================] - 1s 854us/step - loss: 3.1357\n",
            "Epoch 2/10\n",
            "318/318 [==============================] - 0s 884us/step - loss: 2.2237\n",
            "Epoch 3/10\n",
            "318/318 [==============================] - 0s 864us/step - loss: 1.3132\n",
            "Epoch 4/10\n",
            "318/318 [==============================] - 0s 880us/step - loss: 1.0641\n",
            "Epoch 5/10\n",
            "318/318 [==============================] - 0s 868us/step - loss: 0.9761\n",
            "Epoch 6/10\n",
            "318/318 [==============================] - 0s 838us/step - loss: 0.8907\n",
            "Epoch 7/10\n",
            "318/318 [==============================] - 0s 873us/step - loss: 0.8014\n",
            "Epoch 8/10\n",
            "318/318 [==============================] - 0s 877us/step - loss: 0.7455\n",
            "Epoch 9/10\n",
            "318/318 [==============================] - 0s 852us/step - loss: 0.7398\n",
            "Epoch 10/10\n",
            "318/318 [==============================] - 0s 831us/step - loss: 0.7420\n"
          ],
          "name": "stdout"
        }
      ]
    },
    {
      "cell_type": "markdown",
      "metadata": {
        "id": "FuJpMNmdS6VX"
      },
      "source": [
        "## Predict "
      ]
    },
    {
      "cell_type": "code",
      "metadata": {
        "id": "c9p8dNzzS-fN"
      },
      "source": [
        "\r\n",
        "#probability_model = tf.keras.Sequential([model, \r\n",
        "#                                         tf.keras.layers.Softmax()]\r\n",
        "probability_model = model\r\n",
        "\r\n",
        "predictions = probability_model.predict(df_test[[\"feat_query_in_title\", 'feat_query_in_title']].to_numpy())\r\n",
        "\r\n"
      ],
      "execution_count": 26,
      "outputs": []
    },
    {
      "cell_type": "code",
      "metadata": {
        "id": "2tHVRjkuTJOB"
      },
      "source": [
        "res = pd.DataFrame(data = {\"id\" : df_test['id'] , \r\n",
        "                           \"prediction\" : [int(np.round(x[0])) for x in predictions]})\r\n",
        "\r\n",
        "res.head()\r\n",
        "\r\n",
        "res.to_csv(\"/content/drive/MyDrive/output/Kaggle_CrossFlower_Init1.csv\", index=False)"
      ],
      "execution_count": 40,
      "outputs": []
    }
  ]
}