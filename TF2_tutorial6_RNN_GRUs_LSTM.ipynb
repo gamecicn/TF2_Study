{
  "nbformat": 4,
  "nbformat_minor": 0,
  "metadata": {
    "colab": {
      "name": "TF2_tutorial6_RNN_GRUs_LSTM.ipynb",
      "provenance": [],
      "collapsed_sections": [],
      "authorship_tag": "ABX9TyOLjMAmTBnJrBVvMjPXvDJe",
      "include_colab_link": true
    },
    "kernelspec": {
      "name": "python3",
      "display_name": "Python 3"
    }
  },
  "cells": [
    {
      "cell_type": "markdown",
      "metadata": {
        "id": "view-in-github",
        "colab_type": "text"
      },
      "source": [
        "<a href=\"https://colab.research.google.com/github/gamecicn/TF2_Study/blob/yt_tf2_tutorial/TF2_tutorial6_RNN_GRUs_LSTM.ipynb\" target=\"_parent\"><img src=\"https://colab.research.google.com/assets/colab-badge.svg\" alt=\"Open In Colab\"/></a>"
      ]
    },
    {
      "cell_type": "code",
      "metadata": {
        "id": "34woimFSjI37"
      },
      "source": [
        "import tensorflow as tf\n",
        "from tensorflow import keras\n",
        "from tensorflow.keras import layers\n",
        "from tensorflow.keras.datasets import mnist"
      ],
      "execution_count": 3,
      "outputs": []
    },
    {
      "cell_type": "code",
      "metadata": {
        "id": "UlokC2Pvk9Cf",
        "outputId": "13bde8de-bc43-48fb-f4f9-f8a8a2c964ec",
        "colab": {
          "base_uri": "https://localhost:8080/"
        }
      },
      "source": [
        "(x_train, y_train), (x_test, y_test) = mnist.load_data()\n",
        "x_train = x_train.astype(\"float32\")"
      ],
      "execution_count": 4,
      "outputs": [
        {
          "output_type": "stream",
          "text": [
            "Downloading data from https://storage.googleapis.com/tensorflow/tf-keras-datasets/mnist.npz\n",
            "11493376/11490434 [==============================] - 0s 0us/step\n"
          ],
          "name": "stdout"
        }
      ]
    },
    {
      "cell_type": "code",
      "metadata": {
        "id": "GY3uTAelQ1JX"
      },
      "source": [
        "# In this demo, 28*28 image will sent to model row after a row\n",
        "# each row is a vector of 28 elements, \n",
        "# It's a very interesting model, it treat each row of image as a embeded word \n",
        "# for a documents. Yes, NLP methodology for image.\n",
        "\n",
        "x_train = x_train.astype(\"float32\") / 255.0\n",
        "x_test = x_test.astype(\"float32\") / 255.0"
      ],
      "execution_count": 5,
      "outputs": []
    },
    {
      "cell_type": "code",
      "metadata": {
        "id": "09_nyiCTRhRy",
        "outputId": "22c20394-1b44-485d-9455-257b9d749e6c",
        "colab": {
          "base_uri": "https://localhost:8080/"
        }
      },
      "source": [
        "model = keras.Sequential()\n",
        "model.add(keras.Input(shape=(None, 28)))\n",
        "model.add(\n",
        "    layers.SimpleRNN(128, return_sequences=True, activation=\"relu\")\n",
        ")\n",
        "model.add(layers.SimpleRNN(128, activation=\"relu\"))\n",
        "model.add(layers.Dense(10))\n",
        "print(model.summary())"
      ],
      "execution_count": 8,
      "outputs": [
        {
          "output_type": "stream",
          "text": [
            "Model: \"sequential_1\"\n",
            "_________________________________________________________________\n",
            "Layer (type)                 Output Shape              Param #   \n",
            "=================================================================\n",
            "simple_rnn_2 (SimpleRNN)     (None, None, 128)         20096     \n",
            "_________________________________________________________________\n",
            "simple_rnn_3 (SimpleRNN)     (None, 128)               32896     \n",
            "_________________________________________________________________\n",
            "dense_1 (Dense)              (None, 10)                1290      \n",
            "=================================================================\n",
            "Total params: 54,282\n",
            "Trainable params: 54,282\n",
            "Non-trainable params: 0\n",
            "_________________________________________________________________\n",
            "None\n"
          ],
          "name": "stdout"
        }
      ]
    },
    {
      "cell_type": "code",
      "metadata": {
        "id": "i-uG8FSfpD00"
      },
      "source": [
        ""
      ],
      "execution_count": null,
      "outputs": []
    },
    {
      "cell_type": "code",
      "metadata": {
        "id": "cXzNLHBaldV1",
        "outputId": "3b5ff8a5-59bd-4198-ce9d-be3eab7e4f2d",
        "colab": {
          "base_uri": "https://localhost:8080/"
        }
      },
      "source": [
        "model.compile(\n",
        "    loss=keras.losses.SparseCategoricalCrossentropy(from_logits=True),\n",
        "    optimizer=keras.optimizers.Adam(lr=0.001),\n",
        "    metrics=[\"accuracy\"]\n",
        ")\n",
        "\n",
        "model.fit(x_train, y_train, batch_size=64, epochs=10, verbose=2)\n",
        "model.evaluate(x_test, y_test, batch_size=64, verbose=2)"
      ],
      "execution_count": 9,
      "outputs": [
        {
          "output_type": "stream",
          "text": [
            "Epoch 1/10\n",
            "938/938 - 24s - loss: 0.3848 - accuracy: 0.8769\n",
            "Epoch 2/10\n",
            "938/938 - 24s - loss: 0.1406 - accuracy: 0.9585\n",
            "Epoch 3/10\n",
            "938/938 - 24s - loss: 0.1114 - accuracy: 0.9675\n",
            "Epoch 4/10\n",
            "938/938 - 24s - loss: 0.0981 - accuracy: 0.9720\n",
            "Epoch 5/10\n",
            "938/938 - 24s - loss: 0.0890 - accuracy: 0.9747\n",
            "Epoch 6/10\n",
            "938/938 - 24s - loss: 0.0784 - accuracy: 0.9779\n",
            "Epoch 7/10\n",
            "938/938 - 24s - loss: 0.0715 - accuracy: 0.9797\n",
            "Epoch 8/10\n",
            "938/938 - 24s - loss: 0.0663 - accuracy: 0.9810\n",
            "Epoch 9/10\n",
            "938/938 - 25s - loss: 0.0697 - accuracy: 0.9801\n",
            "Epoch 10/10\n",
            "938/938 - 24s - loss: 0.0663 - accuracy: 0.9816\n",
            "157/157 - 1s - loss: 0.0876 - accuracy: 0.9775\n"
          ],
          "name": "stdout"
        },
        {
          "output_type": "execute_result",
          "data": {
            "text/plain": [
              "[0.0875893235206604, 0.9775000214576721]"
            ]
          },
          "metadata": {
            "tags": []
          },
          "execution_count": 9
        }
      ]
    },
    {
      "cell_type": "code",
      "metadata": {
        "id": "ZW-mOcS0ldQn"
      },
      "source": [
        ""
      ],
      "execution_count": null,
      "outputs": []
    }
  ]
}