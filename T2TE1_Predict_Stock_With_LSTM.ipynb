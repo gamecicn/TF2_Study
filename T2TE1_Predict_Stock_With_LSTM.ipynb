{
  "nbformat": 4,
  "nbformat_minor": 0,
  "metadata": {
    "colab": {
      "name": "T2TE1 Predict Stock With LSTM.ipynb",
      "provenance": [],
      "collapsed_sections": [],
      "mount_file_id": "1Q6CVgoc0cMa79WjFzYWXnvtcra8s-e52",
      "authorship_tag": "ABX9TyPgj8Y6ux32gV2Ysf5Dy7sV",
      "include_colab_link": true
    },
    "kernelspec": {
      "name": "python3",
      "display_name": "Python 3"
    },
    "accelerator": "GPU"
  },
  "cells": [
    {
      "cell_type": "markdown",
      "metadata": {
        "id": "view-in-github",
        "colab_type": "text"
      },
      "source": [
        "<a href=\"https://colab.research.google.com/github/gamecicn/TF2_Study/blob/NeteaseCourse/T2TE1_Predict_Stock_With_LSTM.ipynb\" target=\"_parent\"><img src=\"https://colab.research.google.com/assets/colab-badge.svg\" alt=\"Open In Colab\"/></a>"
      ]
    },
    {
      "cell_type": "code",
      "metadata": {
        "id": "c4_KNALkK1tZ"
      },
      "source": [
        "import warnings\r\n",
        "warnings.filterwarnings(\"ignore\")\r\n",
        "from __future__ import absolute_import, division, print_function, unicode_literals\r\n",
        "import tensorflow as tf\r\n",
        "import matplotlib as mpl\r\n",
        "import matplotlib.pyplot as plt\r\n",
        "%matplotlib inline\r\n",
        "import numpy as np\r\n",
        "import os\r\n",
        "import pandas as pd\r\n",
        "\r\n",
        "mpl.rcParams['figure.figsize'] = (8, 6)\r\n",
        "mpl.rcParams['axes.grid'] = False"
      ],
      "execution_count": 1,
      "outputs": []
    },
    {
      "cell_type": "code",
      "metadata": {
        "colab": {
          "base_uri": "https://localhost:8080/",
          "height": 204
        },
        "id": "YCVjtMu8MX6c",
        "outputId": "fb9be346-e0ab-43b9-a9ff-d8f73390695b"
      },
      "source": [
        "df = pd.read_csv('/content/drive/MyDrive/ETF/510050Full.txt')\r\n",
        "df.tail(5)"
      ],
      "execution_count": 2,
      "outputs": [
        {
          "output_type": "execute_result",
          "data": {
            "text/html": [
              "<div>\n",
              "<style scoped>\n",
              "    .dataframe tbody tr th:only-of-type {\n",
              "        vertical-align: middle;\n",
              "    }\n",
              "\n",
              "    .dataframe tbody tr th {\n",
              "        vertical-align: top;\n",
              "    }\n",
              "\n",
              "    .dataframe thead th {\n",
              "        text-align: right;\n",
              "    }\n",
              "</style>\n",
              "<table border=\"1\" class=\"dataframe\">\n",
              "  <thead>\n",
              "    <tr style=\"text-align: right;\">\n",
              "      <th></th>\n",
              "      <th>data</th>\n",
              "      <th>open</th>\n",
              "      <th>high</th>\n",
              "      <th>low</th>\n",
              "      <th>close</th>\n",
              "      <th>volumn</th>\n",
              "      <th>money</th>\n",
              "    </tr>\n",
              "  </thead>\n",
              "  <tbody>\n",
              "    <tr>\n",
              "      <th>3829</th>\n",
              "      <td>2020/11/19</td>\n",
              "      <td>3.424</td>\n",
              "      <td>3.468</td>\n",
              "      <td>3.420</td>\n",
              "      <td>3.460</td>\n",
              "      <td>411932902</td>\n",
              "      <td>1.421195e+09</td>\n",
              "    </tr>\n",
              "    <tr>\n",
              "      <th>3830</th>\n",
              "      <td>2020/11/20</td>\n",
              "      <td>3.462</td>\n",
              "      <td>3.468</td>\n",
              "      <td>3.445</td>\n",
              "      <td>3.465</td>\n",
              "      <td>352204402</td>\n",
              "      <td>1.217078e+09</td>\n",
              "    </tr>\n",
              "    <tr>\n",
              "      <th>3831</th>\n",
              "      <td>2020/11/23</td>\n",
              "      <td>3.472</td>\n",
              "      <td>3.540</td>\n",
              "      <td>3.471</td>\n",
              "      <td>3.521</td>\n",
              "      <td>756216358</td>\n",
              "      <td>2.653729e+09</td>\n",
              "    </tr>\n",
              "    <tr>\n",
              "      <th>3832</th>\n",
              "      <td>2020/11/24</td>\n",
              "      <td>3.521</td>\n",
              "      <td>3.529</td>\n",
              "      <td>3.491</td>\n",
              "      <td>3.493</td>\n",
              "      <td>723999385</td>\n",
              "      <td>2.537057e+09</td>\n",
              "    </tr>\n",
              "    <tr>\n",
              "      <th>3833</th>\n",
              "      <td>2020/11/25</td>\n",
              "      <td>3.505</td>\n",
              "      <td>3.525</td>\n",
              "      <td>3.467</td>\n",
              "      <td>3.468</td>\n",
              "      <td>595775601</td>\n",
              "      <td>2.082199e+09</td>\n",
              "    </tr>\n",
              "  </tbody>\n",
              "</table>\n",
              "</div>"
            ],
            "text/plain": [
              "            data   open   high    low  close     volumn         money\n",
              "3829  2020/11/19  3.424  3.468  3.420  3.460  411932902  1.421195e+09\n",
              "3830  2020/11/20  3.462  3.468  3.445  3.465  352204402  1.217078e+09\n",
              "3831  2020/11/23  3.472  3.540  3.471  3.521  756216358  2.653729e+09\n",
              "3832  2020/11/24  3.521  3.529  3.491  3.493  723999385  2.537057e+09\n",
              "3833  2020/11/25  3.505  3.525  3.467  3.468  595775601  2.082199e+09"
            ]
          },
          "metadata": {
            "tags": []
          },
          "execution_count": 2
        }
      ]
    },
    {
      "cell_type": "code",
      "metadata": {
        "colab": {
          "base_uri": "https://localhost:8080/",
          "height": 235
        },
        "id": "rN11AkP5P-uu",
        "outputId": "3770f693-ed75-4542-edc0-3ef9526f02dd"
      },
      "source": [
        "features_considered = ['open', 'high', 'low', 'volumn', 'close']\r\n",
        "\r\n",
        "features = df[features_considered]\r\n",
        "features.index = df['data']\r\n",
        "features.head()"
      ],
      "execution_count": 3,
      "outputs": [
        {
          "output_type": "execute_result",
          "data": {
            "text/html": [
              "<div>\n",
              "<style scoped>\n",
              "    .dataframe tbody tr th:only-of-type {\n",
              "        vertical-align: middle;\n",
              "    }\n",
              "\n",
              "    .dataframe tbody tr th {\n",
              "        vertical-align: top;\n",
              "    }\n",
              "\n",
              "    .dataframe thead th {\n",
              "        text-align: right;\n",
              "    }\n",
              "</style>\n",
              "<table border=\"1\" class=\"dataframe\">\n",
              "  <thead>\n",
              "    <tr style=\"text-align: right;\">\n",
              "      <th></th>\n",
              "      <th>open</th>\n",
              "      <th>high</th>\n",
              "      <th>low</th>\n",
              "      <th>volumn</th>\n",
              "      <th>close</th>\n",
              "    </tr>\n",
              "    <tr>\n",
              "      <th>data</th>\n",
              "      <th></th>\n",
              "      <th></th>\n",
              "      <th></th>\n",
              "      <th></th>\n",
              "      <th></th>\n",
              "    </tr>\n",
              "  </thead>\n",
              "  <tbody>\n",
              "    <tr>\n",
              "      <th>2005/02/23</th>\n",
              "      <td>0.881</td>\n",
              "      <td>0.882</td>\n",
              "      <td>0.866</td>\n",
              "      <td>1269742542</td>\n",
              "      <td>0.876</td>\n",
              "    </tr>\n",
              "    <tr>\n",
              "      <th>2005/02/24</th>\n",
              "      <td>0.876</td>\n",
              "      <td>0.876</td>\n",
              "      <td>0.868</td>\n",
              "      <td>451614223</td>\n",
              "      <td>0.876</td>\n",
              "    </tr>\n",
              "    <tr>\n",
              "      <th>2005/02/25</th>\n",
              "      <td>0.877</td>\n",
              "      <td>0.887</td>\n",
              "      <td>0.875</td>\n",
              "      <td>506460695</td>\n",
              "      <td>0.880</td>\n",
              "    </tr>\n",
              "    <tr>\n",
              "      <th>2005/02/28</th>\n",
              "      <td>0.878</td>\n",
              "      <td>0.879</td>\n",
              "      <td>0.870</td>\n",
              "      <td>187965193</td>\n",
              "      <td>0.872</td>\n",
              "    </tr>\n",
              "    <tr>\n",
              "      <th>2005/03/01</th>\n",
              "      <td>0.870</td>\n",
              "      <td>0.873</td>\n",
              "      <td>0.865</td>\n",
              "      <td>208094456</td>\n",
              "      <td>0.867</td>\n",
              "    </tr>\n",
              "  </tbody>\n",
              "</table>\n",
              "</div>"
            ],
            "text/plain": [
              "             open   high    low      volumn  close\n",
              "data                                              \n",
              "2005/02/23  0.881  0.882  0.866  1269742542  0.876\n",
              "2005/02/24  0.876  0.876  0.868   451614223  0.876\n",
              "2005/02/25  0.877  0.887  0.875   506460695  0.880\n",
              "2005/02/28  0.878  0.879  0.870   187965193  0.872\n",
              "2005/03/01  0.870  0.873  0.865   208094456  0.867"
            ]
          },
          "metadata": {
            "tags": []
          },
          "execution_count": 3
        }
      ]
    },
    {
      "cell_type": "code",
      "metadata": {
        "colab": {
          "base_uri": "https://localhost:8080/"
        },
        "id": "Z1lSjpMrQ9cj",
        "outputId": "228a193e-d1ae-4bcc-cda0-4cdba0505089"
      },
      "source": [
        "features.shape"
      ],
      "execution_count": null,
      "outputs": [
        {
          "output_type": "execute_result",
          "data": {
            "text/plain": [
              "(3834, 5)"
            ]
          },
          "metadata": {
            "tags": []
          },
          "execution_count": 9
        }
      ]
    },
    {
      "cell_type": "code",
      "metadata": {
        "colab": {
          "base_uri": "https://localhost:8080/",
          "height": 387
        },
        "id": "zX4sJzOsQZ68",
        "outputId": "26db14c4-9e4c-46c5-e29d-f8981822ef1a"
      },
      "source": [
        "features.plot(subplots=True)"
      ],
      "execution_count": 4,
      "outputs": [
        {
          "output_type": "execute_result",
          "data": {
            "text/plain": [
              "array([<matplotlib.axes._subplots.AxesSubplot object at 0x7ff936118550>,\n",
              "       <matplotlib.axes._subplots.AxesSubplot object at 0x7ff8fc51ffd0>,\n",
              "       <matplotlib.axes._subplots.AxesSubplot object at 0x7ff8fc4d6fd0>,\n",
              "       <matplotlib.axes._subplots.AxesSubplot object at 0x7ff8fc48dfd0>,\n",
              "       <matplotlib.axes._subplots.AxesSubplot object at 0x7ff8fce7b1d0>],\n",
              "      dtype=object)"
            ]
          },
          "metadata": {
            "tags": []
          },
          "execution_count": 4
        },
        {
          "output_type": "display_data",
          "data": {
            "image/png": "[encoded data removed]",
            "text/plain": [
              "<Figure size 432x288 with 5 Axes>"
            ]
          },
          "metadata": {
            "tags": [],
            "needs_background": "light"
          }
        }
      ]
    },
    {
      "cell_type": "markdown",
      "metadata": {
        "id": "vLaiTEtMQoSY"
      },
      "source": [
        "## Standiazation "
      ]
    },
    {
      "cell_type": "code",
      "metadata": {
        "id": "nPnsocdEQfS3"
      },
      "source": [
        "TRAIN_SPLIT = 3500\r\n",
        "\r\n",
        "dataset = features.values\r\n",
        "\r\n",
        "data_mean = dataset[:TRAIN_SPLIT].mean(axis=0)\r\n",
        "data_std = dataset[:TRAIN_SPLIT].std(axis=0)\r\n",
        "\r\n",
        "dataset = (dataset-data_mean)/data_std"
      ],
      "execution_count": 4,
      "outputs": []
    },
    {
      "cell_type": "code",
      "metadata": {
        "colab": {
          "base_uri": "https://localhost:8080/"
        },
        "id": "z_uKquhJueiJ",
        "outputId": "45c6939d-c6b6-4c22-94d1-7fe89399cb45"
      },
      "source": [
        "dataset"
      ],
      "execution_count": 5,
      "outputs": [
        {
          "output_type": "execute_result",
          "data": {
            "text/plain": [
              "array([[-1.70942531, -1.71823383, -1.72605696,  1.54390147, -1.7190659 ],\n",
              "       [-1.71649981, -1.72661026, -1.72318382, -0.051443  , -1.7190659 ],\n",
              "       [-1.71508491, -1.71125346, -1.71312785,  0.05550724, -1.71340759],\n",
              "       ...,\n",
              "       [ 1.95658173,  1.99252698,  2.01619998,  0.54252902,  2.02249112],\n",
              "       [ 2.02591185,  1.97717018,  2.04493131,  0.47970615,  1.98288296],\n",
              "       [ 2.00327345,  1.97158589,  2.01045371,  0.22967068,  1.94751853]])"
            ]
          },
          "metadata": {
            "tags": []
          },
          "execution_count": 5
        }
      ]
    },
    {
      "cell_type": "markdown",
      "metadata": {
        "id": "QyueZfR0RVgl"
      },
      "source": [
        "## Prepare Data"
      ]
    },
    {
      "cell_type": "code",
      "metadata": {
        "id": "ZH93a0oCRXu-"
      },
      "source": [
        "def multivariate_data(dataset, target, start_index, end_index, history_size,\r\n",
        "                      future_target, step, single_step=False):\r\n",
        "    data = []\r\n",
        "    labels = []\r\n",
        "\r\n",
        "    start_index = start_index + history_size\r\n",
        "    if end_index is None:\r\n",
        "        end_index = len(dataset) - future_target\r\n",
        "\r\n",
        "    for i in range(start_index, end_index):\r\n",
        "        indices = range(i-history_size, i, step)  \r\n",
        "        data.append(dataset[indices])\r\n",
        "\r\n",
        "        if single_step:\r\n",
        "            labels.append(target[i+future_target]) \r\n",
        "        else:\r\n",
        "            labels.append(target[i:i+future_target])\r\n",
        "\r\n",
        "    return np.array(data), np.array(labels)"
      ],
      "execution_count": 6,
      "outputs": []
    },
    {
      "cell_type": "code",
      "metadata": {
        "id": "5MJ66jpyVVmQ"
      },
      "source": [
        "past_history = 3\r\n",
        "future_target = 0\r\n",
        "STEP = 1\r\n",
        "\r\n",
        "x_train_single, y_train_single = multivariate_data(dataset, \r\n",
        "                                                   dataset[:, 1], \r\n",
        "                                                   0,\r\n",
        "                                                   TRAIN_SPLIT, \r\n",
        "                                                   past_history,\r\n",
        "                                                   future_target, STEP,\r\n",
        "                                                   single_step=True)\r\n",
        "\r\n",
        "x_val_single, y_val_single = multivariate_data(dataset, dataset[:, 1],\r\n",
        "                                               TRAIN_SPLIT, None, past_history,\r\n",
        "                                               future_target, STEP,\r\n",
        "                                               single_step=True)"
      ],
      "execution_count": 7,
      "outputs": []
    },
    {
      "cell_type": "code",
      "metadata": {
        "id": "hIGiJ0oVVw3-"
      },
      "source": [
        "x_train_single.shape"
      ],
      "execution_count": null,
      "outputs": []
    },
    {
      "cell_type": "code",
      "metadata": {
        "colab": {
          "base_uri": "https://localhost:8080/"
        },
        "id": "DdP-GhLrVzWn",
        "outputId": "e47dd483-2288-4d7f-87de-9aa9918d3191"
      },
      "source": [
        "y_train_single.shape"
      ],
      "execution_count": null,
      "outputs": [
        {
          "output_type": "execute_result",
          "data": {
            "text/plain": [
              "(1980,)"
            ]
          },
          "metadata": {
            "tags": []
          },
          "execution_count": 30
        }
      ]
    },
    {
      "cell_type": "markdown",
      "metadata": {
        "id": "iq0VKn0bayXQ"
      },
      "source": [
        "## 构建训练数据"
      ]
    },
    {
      "cell_type": "code",
      "metadata": {
        "id": "mrvenGjNai34"
      },
      "source": [
        "EPOCHS = 10\r\n",
        "\r\n",
        "BATCH_SIZE = 32\r\n",
        "BUFFER_SIZE = 10000\r\n",
        "\r\n",
        "train_data_single = tf.data.Dataset.from_tensor_slices((x_train_single, y_train_single))\r\n",
        "train_data_single = train_data_single.cache().batch(BATCH_SIZE)#.repeat()\r\n",
        "\r\n",
        "val_data_single = tf.data.Dataset.from_tensor_slices((x_val_single, y_val_single))\r\n",
        "val_data_single = val_data_single.batch(BATCH_SIZE)#.repeat()"
      ],
      "execution_count": 31,
      "outputs": []
    },
    {
      "cell_type": "code",
      "metadata": {
        "colab": {
          "base_uri": "https://localhost:8080/"
        },
        "id": "SmQT8hOFbF9C",
        "outputId": "ceee0322-c172-466c-e6ba-2b2d61d46d78"
      },
      "source": [
        "train_data_single"
      ],
      "execution_count": 9,
      "outputs": [
        {
          "output_type": "execute_result",
          "data": {
            "text/plain": [
              "<RepeatDataset shapes: ((None, 3, 5), (None,)), types: (tf.float64, tf.float64)>"
            ]
          },
          "metadata": {
            "tags": []
          },
          "execution_count": 9
        }
      ]
    },
    {
      "cell_type": "code",
      "metadata": {
        "colab": {
          "base_uri": "https://localhost:8080/"
        },
        "id": "TG9x8v5scP2f",
        "outputId": "e040ec3a-5f4f-437a-beb5-11474952fd88"
      },
      "source": [
        "single_step_model = tf.keras.models.Sequential()\r\n",
        "single_step_model.add(tf.keras.layers.LSTM(32,  input_shape=x_train_single.shape[-2:]))  # return_sequences=True, \r\n",
        "#single_step_model.add(tf.keras.layers.LSTM(64))\r\n",
        "single_step_model.add(tf.keras.layers.Dense(1))\r\n",
        "\r\n",
        "single_step_model.compile(optimizer=tf.keras.optimizers.RMSprop(), loss='mae')\r\n",
        "\r\n",
        "single_step_model.summary()"
      ],
      "execution_count": 40,
      "outputs": [
        {
          "output_type": "stream",
          "text": [
            "Model: \"sequential_3\"\n",
            "_________________________________________________________________\n",
            "Layer (type)                 Output Shape              Param #   \n",
            "=================================================================\n",
            "lstm_3 (LSTM)                (None, 32)                4864      \n",
            "_________________________________________________________________\n",
            "dense_3 (Dense)              (None, 1)                 33        \n",
            "=================================================================\n",
            "Total params: 4,897\n",
            "Trainable params: 4,897\n",
            "Non-trainable params: 0\n",
            "_________________________________________________________________\n"
          ],
          "name": "stdout"
        }
      ]
    },
    {
      "cell_type": "code",
      "metadata": {
        "colab": {
          "base_uri": "https://localhost:8080/"
        },
        "id": "8RR9HcbpcTX4",
        "outputId": "cfa11aa6-758b-47f9-8477-ef3b1f575c24"
      },
      "source": [
        "len(train_data_single)"
      ],
      "execution_count": 32,
      "outputs": [
        {
          "output_type": "execute_result",
          "data": {
            "text/plain": [
              "110"
            ]
          },
          "metadata": {
            "tags": []
          },
          "execution_count": 32
        }
      ]
    },
    {
      "cell_type": "code",
      "metadata": {
        "colab": {
          "base_uri": "https://localhost:8080/"
        },
        "id": "FyaxA6TnHuNH",
        "outputId": "c4cf9248-ae77-4f3f-c83b-22b3469ff1e6"
      },
      "source": [
        "len(val_data_single)"
      ],
      "execution_count": 33,
      "outputs": [
        {
          "output_type": "execute_result",
          "data": {
            "text/plain": [
              "11"
            ]
          },
          "metadata": {
            "tags": []
          },
          "execution_count": 33
        }
      ]
    },
    {
      "cell_type": "code",
      "metadata": {
        "colab": {
          "base_uri": "https://localhost:8080/"
        },
        "id": "QL-l63wHdOJE",
        "outputId": "72e01428-8599-4d72-d555-19e08fbcadd6"
      },
      "source": [
        "\r\n",
        "def calculate_spe(y):\r\n",
        "  return int(math.ceil((1. * y) / batch_size)) \r\n",
        "\r\n",
        " \r\n",
        "single_step_history = single_step_model.fit(train_data_single, \r\n",
        "                                            epochs=30,\r\n",
        "                                            validation_data=val_data_single)"
      ],
      "execution_count": 47,
      "outputs": [
        {
          "output_type": "stream",
          "text": [
            "Epoch 1/30\n",
            "110/110 [==============================] - 0s 4ms/step - loss: 0.0322 - val_loss: 0.0346\n",
            "Epoch 2/30\n",
            "110/110 [==============================] - 0s 3ms/step - loss: 0.0329 - val_loss: 0.0588\n",
            "Epoch 3/30\n",
            "110/110 [==============================] - 0s 3ms/step - loss: 0.0321 - val_loss: 0.0601\n",
            "Epoch 4/30\n",
            "110/110 [==============================] - 0s 4ms/step - loss: 0.0322 - val_loss: 0.0355\n",
            "Epoch 5/30\n",
            "110/110 [==============================] - 0s 3ms/step - loss: 0.0330 - val_loss: 0.0580\n",
            "Epoch 6/30\n",
            "110/110 [==============================] - 0s 4ms/step - loss: 0.0318 - val_loss: 0.0556\n",
            "Epoch 7/30\n",
            "110/110 [==============================] - 0s 4ms/step - loss: 0.0323 - val_loss: 0.0588\n",
            "Epoch 8/30\n",
            "110/110 [==============================] - 0s 3ms/step - loss: 0.0317 - val_loss: 0.0626\n",
            "Epoch 9/30\n",
            "110/110 [==============================] - 0s 4ms/step - loss: 0.0324 - val_loss: 0.0398\n",
            "Epoch 10/30\n",
            "110/110 [==============================] - 0s 3ms/step - loss: 0.0316 - val_loss: 0.0638\n",
            "Epoch 11/30\n",
            "110/110 [==============================] - 0s 3ms/step - loss: 0.0331 - val_loss: 0.0603\n",
            "Epoch 12/30\n",
            "110/110 [==============================] - 0s 4ms/step - loss: 0.0323 - val_loss: 0.0614\n",
            "Epoch 13/30\n",
            "110/110 [==============================] - 0s 3ms/step - loss: 0.0322 - val_loss: 0.0616\n",
            "Epoch 14/30\n",
            "110/110 [==============================] - 0s 4ms/step - loss: 0.0331 - val_loss: 0.0588\n",
            "Epoch 15/30\n",
            "110/110 [==============================] - 0s 4ms/step - loss: 0.0332 - val_loss: 0.0652\n",
            "Epoch 16/30\n",
            "110/110 [==============================] - 0s 3ms/step - loss: 0.0324 - val_loss: 0.0626\n",
            "Epoch 17/30\n",
            "110/110 [==============================] - 0s 4ms/step - loss: 0.0327 - val_loss: 0.0595\n",
            "Epoch 18/30\n",
            "110/110 [==============================] - 0s 4ms/step - loss: 0.0330 - val_loss: 0.0638\n",
            "Epoch 19/30\n",
            "110/110 [==============================] - 0s 4ms/step - loss: 0.0321 - val_loss: 0.0681\n",
            "Epoch 20/30\n",
            "110/110 [==============================] - 0s 4ms/step - loss: 0.0325 - val_loss: 0.0667\n",
            "Epoch 21/30\n",
            "110/110 [==============================] - 0s 4ms/step - loss: 0.0330 - val_loss: 0.0549\n",
            "Epoch 22/30\n",
            "110/110 [==============================] - 0s 3ms/step - loss: 0.0328 - val_loss: 0.0634\n",
            "Epoch 23/30\n",
            "110/110 [==============================] - 0s 4ms/step - loss: 0.0325 - val_loss: 0.0533\n",
            "Epoch 24/30\n",
            "110/110 [==============================] - 0s 4ms/step - loss: 0.0335 - val_loss: 0.0609\n",
            "Epoch 25/30\n",
            "110/110 [==============================] - 0s 3ms/step - loss: 0.0323 - val_loss: 0.0692\n",
            "Epoch 26/30\n",
            "110/110 [==============================] - 0s 3ms/step - loss: 0.0325 - val_loss: 0.0574\n",
            "Epoch 27/30\n",
            "110/110 [==============================] - 0s 3ms/step - loss: 0.0323 - val_loss: 0.0639\n",
            "Epoch 28/30\n",
            "110/110 [==============================] - 0s 3ms/step - loss: 0.0331 - val_loss: 0.0599\n",
            "Epoch 29/30\n",
            "110/110 [==============================] - 0s 4ms/step - loss: 0.0323 - val_loss: 0.0578\n",
            "Epoch 30/30\n",
            "110/110 [==============================] - 0s 3ms/step - loss: 0.0323 - val_loss: 0.0542\n"
          ],
          "name": "stdout"
        }
      ]
    },
    {
      "cell_type": "code",
      "metadata": {
        "id": "_4V4ndSMiVzU"
      },
      "source": [
        "def create_time_steps(length):\r\n",
        "    time_steps = []\r\n",
        "    for i in range(-length, 0, 1):\r\n",
        "        time_steps.append(i)\r\n",
        "    return time_steps\r\n",
        "\r\n",
        "def show_plot(plot_data, delta, title):\r\n",
        "    labels = ['History', 'True Future', 'Model Prediction']\r\n",
        "    marker = ['.-', 'rx', 'go']\r\n",
        "    time_steps = create_time_steps(plot_data[0].shape[0])\r\n",
        "    if delta:\r\n",
        "        future = delta\r\n",
        "    else:\r\n",
        "        future = 0\r\n",
        "\r\n",
        "    plt.title(title)\r\n",
        "    for i, x in enumerate(plot_data):\r\n",
        "        if i:\r\n",
        "            plt.plot(future, plot_data[i], marker[i], markersize=10,label=labels[i])\r\n",
        "        else:\r\n",
        "            plt.plot(time_steps, plot_data[i].flatten(), marker[i], label=labels[i])\r\n",
        "    plt.legend()\r\n",
        "    plt.xlim([time_steps[0], (future+5)*2])\r\n",
        "    plt.xlabel('Time-Step')\r\n",
        "    return plt\r\n",
        "\r\n",
        "def plot_train_history(history, title):\r\n",
        "    loss = history.history['loss']\r\n",
        "    val_loss = history.history['val_loss']\r\n",
        "\r\n",
        "    epochs = range(len(loss))\r\n",
        "\r\n",
        "    plt.figure()\r\n",
        "\r\n",
        "    plt.plot(epochs, loss, 'b', label='Training loss')\r\n",
        "    plt.plot(epochs, val_loss, 'r', label='Validation loss')\r\n",
        "    plt.title(title)\r\n",
        "    plt.legend()\r\n",
        "\r\n",
        "    plt.show()"
      ],
      "execution_count": 12,
      "outputs": []
    },
    {
      "cell_type": "code",
      "metadata": {
        "colab": {
          "base_uri": "https://localhost:8080/",
          "height": 281
        },
        "id": "r1GsKiGfixiy",
        "outputId": "ab7290af-e472-4d71-ca81-f00cf0b28759"
      },
      "source": [
        "plot_train_history(single_step_history,\r\n",
        "                   'Single Step Training and validation loss')"
      ],
      "execution_count": 45,
      "outputs": [
        {
          "output_type": "display_data",
          "data": {
            "image/png": "[encoded data removed]",
            "text/plain": [
              "<Figure size 432x288 with 1 Axes>"
            ]
          },
          "metadata": {
            "tags": [],
            "needs_background": "light"
          }
        }
      ]
    },
    {
      "cell_type": "code",
      "metadata": {
        "colab": {
          "base_uri": "https://localhost:8080/",
          "height": 851
        },
        "id": "9idDgDaKi2nc",
        "outputId": "aba64b42-eda0-4540-cc78-a0574f494eb4"
      },
      "source": [
        "for x, y in val_data_single.take(3):\r\n",
        "    plot = show_plot([x[0][:, 1].numpy(), y[0].numpy(),\r\n",
        "                    single_step_model.predict(x)[0]], 0,\r\n",
        "                   'Single Step Prediction')\r\n",
        "    plot.show()"
      ],
      "execution_count": 46,
      "outputs": [
        {
          "output_type": "display_data",
          "data": {
            "image/png": "[encoded data removed]",
            "text/plain": [
              "<Figure size 432x288 with 1 Axes>"
            ]
          },
          "metadata": {
            "tags": [],
            "needs_background": "light"
          }
        },
        {
          "output_type": "display_data",
          "data": {
            "image/png": "[encoded data removed]",
            "text/plain": [
              "<Figure size 432x288 with 1 Axes>"
            ]
          },
          "metadata": {
            "tags": [],
            "needs_background": "light"
          }
        },
        {
          "output_type": "display_data",
          "data": {
            "image/png": "[encoded data removed]",
            "text/plain": [
              "<Figure size 432x288 with 1 Axes>"
            ]
          },
          "metadata": {
            "tags": [],
            "needs_background": "light"
          }
        }
      ]
    }
  ]
}