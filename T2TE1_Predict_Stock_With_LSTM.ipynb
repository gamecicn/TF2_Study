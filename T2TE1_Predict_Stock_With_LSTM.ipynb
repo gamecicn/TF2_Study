{
  "nbformat": 4,
  "nbformat_minor": 0,
  "metadata": {
    "colab": {
      "name": "T2TE1 Predict Stock With LSTM.ipynb",
      "provenance": [],
      "collapsed_sections": [],
      "mount_file_id": "1Q6CVgoc0cMa79WjFzYWXnvtcra8s-e52",
      "authorship_tag": "ABX9TyOpjB308d8sJw/uQA9cdM+7",
      "include_colab_link": true
    },
    "kernelspec": {
      "name": "python3",
      "display_name": "Python 3"
    }
  },
  "cells": [
    {
      "cell_type": "markdown",
      "metadata": {
        "id": "view-in-github",
        "colab_type": "text"
      },
      "source": [
        "<a href=\"https://colab.research.google.com/github/gamecicn/TF2_Study/blob/yt_tf2_tutorial/T2TE1_Predict_Stock_With_LSTM.ipynb\" target=\"_parent\"><img src=\"https://colab.research.google.com/assets/colab-badge.svg\" alt=\"Open In Colab\"/></a>"
      ]
    },
    {
      "cell_type": "code",
      "metadata": {
        "id": "c4_KNALkK1tZ"
      },
      "source": [
        "import warnings\r\n",
        "warnings.filterwarnings(\"ignore\")\r\n",
        "from __future__ import absolute_import, division, print_function, unicode_literals\r\n",
        "import tensorflow as tf\r\n",
        "import matplotlib as mpl\r\n",
        "import matplotlib.pyplot as plt\r\n",
        "%matplotlib inline\r\n",
        "import numpy as np\r\n",
        "import os\r\n",
        "import pandas as pd\r\n",
        "\r\n",
        "mpl.rcParams['figure.figsize'] = (8, 6)\r\n",
        "mpl.rcParams['axes.grid'] = False"
      ],
      "execution_count": null,
      "outputs": []
    },
    {
      "cell_type": "code",
      "metadata": {
        "colab": {
          "base_uri": "https://localhost:8080/",
          "height": 204
        },
        "id": "YCVjtMu8MX6c",
        "outputId": "2a548635-465e-477c-91be-a56002c8f119"
      },
      "source": [
        "df = pd.read_csv('/content/drive/MyDrive/ETF/510050Full.txt')\r\n",
        "df.tail(5)"
      ],
      "execution_count": null,
      "outputs": [
        {
          "output_type": "execute_result",
          "data": {
            "text/html": [
              "<div>\n",
              "<style scoped>\n",
              "    .dataframe tbody tr th:only-of-type {\n",
              "        vertical-align: middle;\n",
              "    }\n",
              "\n",
              "    .dataframe tbody tr th {\n",
              "        vertical-align: top;\n",
              "    }\n",
              "\n",
              "    .dataframe thead th {\n",
              "        text-align: right;\n",
              "    }\n",
              "</style>\n",
              "<table border=\"1\" class=\"dataframe\">\n",
              "  <thead>\n",
              "    <tr style=\"text-align: right;\">\n",
              "      <th></th>\n",
              "      <th>data</th>\n",
              "      <th>open</th>\n",
              "      <th>high</th>\n",
              "      <th>low</th>\n",
              "      <th>close</th>\n",
              "      <th>volumn</th>\n",
              "      <th>money</th>\n",
              "    </tr>\n",
              "  </thead>\n",
              "  <tbody>\n",
              "    <tr>\n",
              "      <th>3829</th>\n",
              "      <td>2020/11/19</td>\n",
              "      <td>3.424</td>\n",
              "      <td>3.468</td>\n",
              "      <td>3.420</td>\n",
              "      <td>3.460</td>\n",
              "      <td>411932902</td>\n",
              "      <td>1.421195e+09</td>\n",
              "    </tr>\n",
              "    <tr>\n",
              "      <th>3830</th>\n",
              "      <td>2020/11/20</td>\n",
              "      <td>3.462</td>\n",
              "      <td>3.468</td>\n",
              "      <td>3.445</td>\n",
              "      <td>3.465</td>\n",
              "      <td>352204402</td>\n",
              "      <td>1.217078e+09</td>\n",
              "    </tr>\n",
              "    <tr>\n",
              "      <th>3831</th>\n",
              "      <td>2020/11/23</td>\n",
              "      <td>3.472</td>\n",
              "      <td>3.540</td>\n",
              "      <td>3.471</td>\n",
              "      <td>3.521</td>\n",
              "      <td>756216358</td>\n",
              "      <td>2.653729e+09</td>\n",
              "    </tr>\n",
              "    <tr>\n",
              "      <th>3832</th>\n",
              "      <td>2020/11/24</td>\n",
              "      <td>3.521</td>\n",
              "      <td>3.529</td>\n",
              "      <td>3.491</td>\n",
              "      <td>3.493</td>\n",
              "      <td>723999385</td>\n",
              "      <td>2.537057e+09</td>\n",
              "    </tr>\n",
              "    <tr>\n",
              "      <th>3833</th>\n",
              "      <td>2020/11/25</td>\n",
              "      <td>3.505</td>\n",
              "      <td>3.525</td>\n",
              "      <td>3.467</td>\n",
              "      <td>3.468</td>\n",
              "      <td>595775601</td>\n",
              "      <td>2.082199e+09</td>\n",
              "    </tr>\n",
              "  </tbody>\n",
              "</table>\n",
              "</div>"
            ],
            "text/plain": [
              "            data   open   high    low  close     volumn         money\n",
              "3829  2020/11/19  3.424  3.468  3.420  3.460  411932902  1.421195e+09\n",
              "3830  2020/11/20  3.462  3.468  3.445  3.465  352204402  1.217078e+09\n",
              "3831  2020/11/23  3.472  3.540  3.471  3.521  756216358  2.653729e+09\n",
              "3832  2020/11/24  3.521  3.529  3.491  3.493  723999385  2.537057e+09\n",
              "3833  2020/11/25  3.505  3.525  3.467  3.468  595775601  2.082199e+09"
            ]
          },
          "metadata": {
            "tags": []
          },
          "execution_count": 4
        }
      ]
    },
    {
      "cell_type": "code",
      "metadata": {
        "colab": {
          "base_uri": "https://localhost:8080/",
          "height": 235
        },
        "id": "rN11AkP5P-uu",
        "outputId": "376b0e11-455f-4da9-df68-19ccec4afe3d"
      },
      "source": [
        "features_considered = ['open', 'high', 'low', 'volumn', 'close']\r\n",
        "\r\n",
        "features = df[features_considered]\r\n",
        "features.index = df['data']\r\n",
        "features.head()"
      ],
      "execution_count": null,
      "outputs": [
        {
          "output_type": "execute_result",
          "data": {
            "text/html": [
              "<div>\n",
              "<style scoped>\n",
              "    .dataframe tbody tr th:only-of-type {\n",
              "        vertical-align: middle;\n",
              "    }\n",
              "\n",
              "    .dataframe tbody tr th {\n",
              "        vertical-align: top;\n",
              "    }\n",
              "\n",
              "    .dataframe thead th {\n",
              "        text-align: right;\n",
              "    }\n",
              "</style>\n",
              "<table border=\"1\" class=\"dataframe\">\n",
              "  <thead>\n",
              "    <tr style=\"text-align: right;\">\n",
              "      <th></th>\n",
              "      <th>open</th>\n",
              "      <th>high</th>\n",
              "      <th>low</th>\n",
              "      <th>volumn</th>\n",
              "      <th>close</th>\n",
              "    </tr>\n",
              "    <tr>\n",
              "      <th>data</th>\n",
              "      <th></th>\n",
              "      <th></th>\n",
              "      <th></th>\n",
              "      <th></th>\n",
              "      <th></th>\n",
              "    </tr>\n",
              "  </thead>\n",
              "  <tbody>\n",
              "    <tr>\n",
              "      <th>2005/02/23</th>\n",
              "      <td>0.881</td>\n",
              "      <td>0.882</td>\n",
              "      <td>0.866</td>\n",
              "      <td>1269742542</td>\n",
              "      <td>0.876</td>\n",
              "    </tr>\n",
              "    <tr>\n",
              "      <th>2005/02/24</th>\n",
              "      <td>0.876</td>\n",
              "      <td>0.876</td>\n",
              "      <td>0.868</td>\n",
              "      <td>451614223</td>\n",
              "      <td>0.876</td>\n",
              "    </tr>\n",
              "    <tr>\n",
              "      <th>2005/02/25</th>\n",
              "      <td>0.877</td>\n",
              "      <td>0.887</td>\n",
              "      <td>0.875</td>\n",
              "      <td>506460695</td>\n",
              "      <td>0.880</td>\n",
              "    </tr>\n",
              "    <tr>\n",
              "      <th>2005/02/28</th>\n",
              "      <td>0.878</td>\n",
              "      <td>0.879</td>\n",
              "      <td>0.870</td>\n",
              "      <td>187965193</td>\n",
              "      <td>0.872</td>\n",
              "    </tr>\n",
              "    <tr>\n",
              "      <th>2005/03/01</th>\n",
              "      <td>0.870</td>\n",
              "      <td>0.873</td>\n",
              "      <td>0.865</td>\n",
              "      <td>208094456</td>\n",
              "      <td>0.867</td>\n",
              "    </tr>\n",
              "  </tbody>\n",
              "</table>\n",
              "</div>"
            ],
            "text/plain": [
              "             open   high    low      volumn  close\n",
              "data                                              \n",
              "2005/02/23  0.881  0.882  0.866  1269742542  0.876\n",
              "2005/02/24  0.876  0.876  0.868   451614223  0.876\n",
              "2005/02/25  0.877  0.887  0.875   506460695  0.880\n",
              "2005/02/28  0.878  0.879  0.870   187965193  0.872\n",
              "2005/03/01  0.870  0.873  0.865   208094456  0.867"
            ]
          },
          "metadata": {
            "tags": []
          },
          "execution_count": 7
        }
      ]
    },
    {
      "cell_type": "code",
      "metadata": {
        "colab": {
          "base_uri": "https://localhost:8080/"
        },
        "id": "Z1lSjpMrQ9cj",
        "outputId": "228a193e-d1ae-4bcc-cda0-4cdba0505089"
      },
      "source": [
        "features.shape"
      ],
      "execution_count": null,
      "outputs": [
        {
          "output_type": "execute_result",
          "data": {
            "text/plain": [
              "(3834, 5)"
            ]
          },
          "metadata": {
            "tags": []
          },
          "execution_count": 9
        }
      ]
    },
    {
      "cell_type": "code",
      "metadata": {
        "colab": {
          "base_uri": "https://localhost:8080/",
          "height": 485
        },
        "id": "zX4sJzOsQZ68",
        "outputId": "eb29c58d-0054-4196-ec4a-f9c36e636890"
      },
      "source": [
        "features.plot(subplots=True)"
      ],
      "execution_count": null,
      "outputs": [
        {
          "output_type": "execute_result",
          "data": {
            "text/plain": [
              "array([<matplotlib.axes._subplots.AxesSubplot object at 0x7ff53edc5198>,\n",
              "       <matplotlib.axes._subplots.AxesSubplot object at 0x7ff50505ffd0>,\n",
              "       <matplotlib.axes._subplots.AxesSubplot object at 0x7ff50501bfd0>,\n",
              "       <matplotlib.axes._subplots.AxesSubplot object at 0x7ff50504ffd0>,\n",
              "       <matplotlib.axes._subplots.AxesSubplot object at 0x7ff505004fd0>],\n",
              "      dtype=object)"
            ]
          },
          "metadata": {
            "tags": []
          },
          "execution_count": 8
        },
        {
          "output_type": "display_data",
          "data": {
            "image/png": "[encoded data removed]",
            "text/plain": [
              "<Figure size 576x432 with 5 Axes>"
            ]
          },
          "metadata": {
            "tags": [],
            "needs_background": "light"
          }
        }
      ]
    },
    {
      "cell_type": "markdown",
      "metadata": {
        "id": "vLaiTEtMQoSY"
      },
      "source": [
        "## Standiazation "
      ]
    },
    {
      "cell_type": "code",
      "metadata": {
        "id": "nPnsocdEQfS3"
      },
      "source": [
        "TRAIN_SPLIT = 3500\r\n",
        "\r\n",
        "dataset = features.values\r\n",
        "\r\n",
        "data_mean = dataset[:TRAIN_SPLIT].mean(axis=0)\r\n",
        "data_std = dataset[:TRAIN_SPLIT].std(axis=0)\r\n",
        "\r\n",
        "dataset = (dataset-data_mean)/data_std"
      ],
      "execution_count": null,
      "outputs": []
    },
    {
      "cell_type": "code",
      "metadata": {
        "colab": {
          "base_uri": "https://localhost:8080/"
        },
        "id": "z_uKquhJueiJ",
        "outputId": "64b4bd09-5f23-45f9-8723-d03c5b42cab5"
      },
      "source": [
        "dataset"
      ],
      "execution_count": null,
      "outputs": [
        {
          "output_type": "execute_result",
          "data": {
            "text/plain": [
              "array([[-1.70942531, -1.71823383, -1.72605696,  1.54390147, -1.7190659 ],\n",
              "       [-1.71649981, -1.72661026, -1.72318382, -0.051443  , -1.7190659 ],\n",
              "       [-1.71508491, -1.71125346, -1.71312785,  0.05550724, -1.71340759],\n",
              "       ...,\n",
              "       [ 1.95658173,  1.99252698,  2.01619998,  0.54252902,  2.02249112],\n",
              "       [ 2.02591185,  1.97717018,  2.04493131,  0.47970615,  1.98288296],\n",
              "       [ 2.00327345,  1.97158589,  2.01045371,  0.22967068,  1.94751853]])"
            ]
          },
          "metadata": {
            "tags": []
          },
          "execution_count": 69
        }
      ]
    },
    {
      "cell_type": "markdown",
      "metadata": {
        "id": "QyueZfR0RVgl"
      },
      "source": [
        "## Prepare Data"
      ]
    },
    {
      "cell_type": "code",
      "metadata": {
        "id": "ZH93a0oCRXu-"
      },
      "source": [
        "def multivariate_data(dataset, target, start_index, end_index, history_size,\r\n",
        "                      future_target, step, single_step=False):\r\n",
        "    data = []\r\n",
        "    labels = []\r\n",
        "\r\n",
        "    start_index = start_index + history_size\r\n",
        "    if end_index is None:\r\n",
        "        end_index = len(dataset) - future_target\r\n",
        "\r\n",
        "    for i in range(start_index, end_index):\r\n",
        "        indices = range(i-history_size, i, step)  \r\n",
        "        data.append(dataset[indices])\r\n",
        "\r\n",
        "        if single_step:\r\n",
        "            labels.append(target[i+future_target]) \r\n",
        "        else:\r\n",
        "            labels.append(target[i:i+future_target])\r\n",
        "\r\n",
        "    return np.array(data), np.array(labels)"
      ],
      "execution_count": null,
      "outputs": []
    },
    {
      "cell_type": "code",
      "metadata": {
        "id": "5MJ66jpyVVmQ"
      },
      "source": [
        "past_history = 3\r\n",
        "future_target = 0\r\n",
        "STEP = 1\r\n",
        "\r\n",
        "x_train_single, y_train_single = multivariate_data(dataset, \r\n",
        "                                                   dataset[:, 1], \r\n",
        "                                                   0,\r\n",
        "                                                   TRAIN_SPLIT, \r\n",
        "                                                   past_history,\r\n",
        "                                                   future_target, STEP,\r\n",
        "                                                   single_step=True)\r\n",
        "\r\n",
        "x_val_single, y_val_single = multivariate_data(dataset, dataset[:, 1],\r\n",
        "                                               TRAIN_SPLIT, None, past_history,\r\n",
        "                                               future_target, STEP,\r\n",
        "                                               single_step=True)"
      ],
      "execution_count": null,
      "outputs": []
    },
    {
      "cell_type": "code",
      "metadata": {
        "id": "hIGiJ0oVVw3-"
      },
      "source": [
        "x_train_single.shape"
      ],
      "execution_count": null,
      "outputs": []
    },
    {
      "cell_type": "code",
      "metadata": {
        "colab": {
          "base_uri": "https://localhost:8080/"
        },
        "id": "DdP-GhLrVzWn",
        "outputId": "e47dd483-2288-4d7f-87de-9aa9918d3191"
      },
      "source": [
        "y_train_single.shape"
      ],
      "execution_count": null,
      "outputs": [
        {
          "output_type": "execute_result",
          "data": {
            "text/plain": [
              "(1980,)"
            ]
          },
          "metadata": {
            "tags": []
          },
          "execution_count": 30
        }
      ]
    },
    {
      "cell_type": "markdown",
      "metadata": {
        "id": "iq0VKn0bayXQ"
      },
      "source": [
        "## 构建训练数据"
      ]
    },
    {
      "cell_type": "code",
      "metadata": {
        "id": "mrvenGjNai34"
      },
      "source": [
        "EPOCHS = 10\r\n",
        "\r\n",
        "BATCH_SIZE = 64\r\n",
        "BUFFER_SIZE = 10000\r\n",
        "\r\n",
        "train_data_single = tf.data.Dataset.from_tensor_slices((x_train_single, y_train_single))\r\n",
        "train_data_single = train_data_single.cache().batch(BATCH_SIZE).repeat()\r\n",
        "\r\n",
        "val_data_single = tf.data.Dataset.from_tensor_slices((x_val_single, y_val_single))\r\n",
        "val_data_single = val_data_single.batch(BATCH_SIZE).repeat()"
      ],
      "execution_count": null,
      "outputs": []
    },
    {
      "cell_type": "code",
      "metadata": {
        "colab": {
          "base_uri": "https://localhost:8080/"
        },
        "id": "SmQT8hOFbF9C",
        "outputId": "92364ece-2c39-45ac-ce79-8c16f0303233"
      },
      "source": [
        "train_data_single"
      ],
      "execution_count": null,
      "outputs": [
        {
          "output_type": "execute_result",
          "data": {
            "text/plain": [
              "<RepeatDataset shapes: ((None, 20, 5), (None,)), types: (tf.float64, tf.float64)>"
            ]
          },
          "metadata": {
            "tags": []
          },
          "execution_count": 43
        }
      ]
    },
    {
      "cell_type": "code",
      "metadata": {
        "colab": {
          "base_uri": "https://localhost:8080/"
        },
        "id": "TG9x8v5scP2f",
        "outputId": "10b2702f-0076-41c1-90a4-19259712029f"
      },
      "source": [
        "single_step_model = tf.keras.models.Sequential()\r\n",
        "single_step_model.add(tf.keras.layers.LSTM(32,  input_shape=x_train_single.shape[-2:]))  # return_sequences=True, \r\n",
        "#single_step_model.add(tf.keras.layers.LSTM(64))\r\n",
        "single_step_model.add(tf.keras.layers.Dense(1))\r\n",
        "\r\n",
        "single_step_model.compile(optimizer=tf.keras.optimizers.RMSprop(), loss='mae')\r\n",
        "\r\n",
        "single_step_model.summary()"
      ],
      "execution_count": null,
      "outputs": [
        {
          "output_type": "stream",
          "text": [
            "Model: \"sequential_10\"\n",
            "_________________________________________________________________\n",
            "Layer (type)                 Output Shape              Param #   \n",
            "=================================================================\n",
            "lstm_10 (LSTM)               (None, 32)                4864      \n",
            "_________________________________________________________________\n",
            "dense_11 (Dense)             (None, 1)                 33        \n",
            "=================================================================\n",
            "Total params: 4,897\n",
            "Trainable params: 4,897\n",
            "Non-trainable params: 0\n",
            "_________________________________________________________________\n"
          ],
          "name": "stdout"
        }
      ]
    },
    {
      "cell_type": "code",
      "metadata": {
        "colab": {
          "base_uri": "https://localhost:8080/"
        },
        "id": "8RR9HcbpcTX4",
        "outputId": "72404681-3120-4d3d-a8c4-8c05ea388310"
      },
      "source": [
        "for x, y in val_data_single.take(1):\r\n",
        "    print(single_step_model.predict(x).shape)"
      ],
      "execution_count": null,
      "outputs": [
        {
          "output_type": "stream",
          "text": [
            "(64, 1)\n"
          ],
          "name": "stdout"
        }
      ]
    },
    {
      "cell_type": "code",
      "metadata": {
        "colab": {
          "base_uri": "https://localhost:8080/"
        },
        "id": "QL-l63wHdOJE",
        "outputId": "3b88e64f-64b8-44c3-ed15-aacad05f82a8"
      },
      "source": [
        "EVALUATION_INTERVAL = 200\r\n",
        "\r\n",
        "single_step_history = single_step_model.fit(train_data_single, \r\n",
        "                                            epochs=EPOCHS,\r\n",
        "                                            steps_per_epoch=EVALUATION_INTERVAL,\r\n",
        "                                            validation_data=val_data_single,\r\n",
        "                                            validation_steps=50)"
      ],
      "execution_count": null,
      "outputs": [
        {
          "output_type": "stream",
          "text": [
            "Epoch 1/10\n",
            "200/200 [==============================] - 3s 5ms/step - loss: 0.5166 - val_loss: 0.0874\n",
            "Epoch 2/10\n",
            "200/200 [==============================] - 1s 3ms/step - loss: 0.0882 - val_loss: 0.1154\n",
            "Epoch 3/10\n",
            "200/200 [==============================] - 1s 4ms/step - loss: 0.0567 - val_loss: 0.0563\n",
            "Epoch 4/10\n",
            "200/200 [==============================] - 1s 4ms/step - loss: 0.0611 - val_loss: 0.0420\n",
            "Epoch 5/10\n",
            "200/200 [==============================] - 1s 4ms/step - loss: 0.0478 - val_loss: 0.1456\n",
            "Epoch 6/10\n",
            "200/200 [==============================] - 1s 4ms/step - loss: 0.0495 - val_loss: 0.0491\n",
            "Epoch 7/10\n",
            "200/200 [==============================] - 1s 4ms/step - loss: 0.0474 - val_loss: 0.0416\n",
            "Epoch 8/10\n",
            "200/200 [==============================] - 1s 4ms/step - loss: 0.0417 - val_loss: 0.0380\n",
            "Epoch 9/10\n",
            "200/200 [==============================] - 1s 4ms/step - loss: 0.0461 - val_loss: 0.0443\n",
            "Epoch 10/10\n",
            "200/200 [==============================] - 1s 3ms/step - loss: 0.0416 - val_loss: 0.0363\n"
          ],
          "name": "stdout"
        }
      ]
    },
    {
      "cell_type": "code",
      "metadata": {
        "id": "_4V4ndSMiVzU"
      },
      "source": [
        "def create_time_steps(length):\r\n",
        "    time_steps = []\r\n",
        "    for i in range(-length, 0, 1):\r\n",
        "        time_steps.append(i)\r\n",
        "    return time_steps\r\n",
        "\r\n",
        "def show_plot(plot_data, delta, title):\r\n",
        "    labels = ['History', 'True Future', 'Model Prediction']\r\n",
        "    marker = ['.-', 'rx', 'go']\r\n",
        "    time_steps = create_time_steps(plot_data[0].shape[0])\r\n",
        "    if delta:\r\n",
        "        future = delta\r\n",
        "    else:\r\n",
        "        future = 0\r\n",
        "\r\n",
        "    plt.title(title)\r\n",
        "    for i, x in enumerate(plot_data):\r\n",
        "        if i:\r\n",
        "            plt.plot(future, plot_data[i], marker[i], markersize=10,label=labels[i])\r\n",
        "        else:\r\n",
        "            plt.plot(time_steps, plot_data[i].flatten(), marker[i], label=labels[i])\r\n",
        "    plt.legend()\r\n",
        "    plt.xlim([time_steps[0], (future+5)*2])\r\n",
        "    plt.xlabel('Time-Step')\r\n",
        "    return plt\r\n",
        "\r\n",
        "def plot_train_history(history, title):\r\n",
        "    loss = history.history['loss']\r\n",
        "    val_loss = history.history['val_loss']\r\n",
        "\r\n",
        "    epochs = range(len(loss))\r\n",
        "\r\n",
        "    plt.figure()\r\n",
        "\r\n",
        "    plt.plot(epochs, loss, 'b', label='Training loss')\r\n",
        "    plt.plot(epochs, val_loss, 'r', label='Validation loss')\r\n",
        "    plt.title(title)\r\n",
        "    plt.legend()\r\n",
        "\r\n",
        "    plt.show()"
      ],
      "execution_count": null,
      "outputs": []
    },
    {
      "cell_type": "code",
      "metadata": {
        "colab": {
          "base_uri": "https://localhost:8080/",
          "height": 390
        },
        "id": "r1GsKiGfixiy",
        "outputId": "4aa4bd83-14be-4643-b970-74408e544c1a"
      },
      "source": [
        "plot_train_history(single_step_history,\r\n",
        "                   'Single Step Training and validation loss')"
      ],
      "execution_count": null,
      "outputs": [
        {
          "output_type": "display_data",
          "data": {
            "image/png": "[encoded data removed]",
            "text/plain": [
              "<Figure size 576x432 with 1 Axes>"
            ]
          },
          "metadata": {
            "tags": [],
            "needs_background": "light"
          }
        }
      ]
    },
    {
      "cell_type": "code",
      "metadata": {
        "colab": {
          "base_uri": "https://localhost:8080/",
          "height": 1000
        },
        "id": "9idDgDaKi2nc",
        "outputId": "10c9a3f0-68d5-4c2c-bccc-67225963b67c"
      },
      "source": [
        "for x, y in val_data_single.take(3):\r\n",
        "    plot = show_plot([x[0][:, 1].numpy(), y[0].numpy(),\r\n",
        "                    single_step_model.predict(x)[0]], 0,\r\n",
        "                   'Single Step Prediction')\r\n",
        "    plot.show()"
      ],
      "execution_count": null,
      "outputs": [
        {
          "output_type": "display_data",
          "data": {
            "image/png": "[encoded data removed]",
            "text/plain": [
              "<Figure size 576x432 with 1 Axes>"
            ]
          },
          "metadata": {
            "tags": [],
            "needs_background": "light"
          }
        },
        {
          "output_type": "display_data",
          "data": {
            "image/png": "[encoded data removed]",
            "text/plain": [
              "<Figure size 576x432 with 1 Axes>"
            ]
          },
          "metadata": {
            "tags": [],
            "needs_background": "light"
          }
        },
        {
          "output_type": "display_data",
          "data": {
            "image/png": "[encoded data removed]",
            "text/plain": [
              "<Figure size 576x432 with 1 Axes>"
            ]
          },
          "metadata": {
            "tags": [],
            "needs_background": "light"
          }
        }
      ]
    }
  ]
}